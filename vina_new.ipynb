{
  "nbformat": 4,
  "nbformat_minor": 0,
  "metadata": {
    "colab": {
      "provenance": [],
      "authorship_tag": "ABX9TyNotzD0aVl9nPBfkoQeBbUM",
      "include_colab_link": true
    },
    "kernelspec": {
      "name": "python3",
      "display_name": "Python 3"
    },
    "language_info": {
      "name": "python"
    }
  },
  "cells": [
    {
      "cell_type": "markdown",
      "metadata": {
        "id": "view-in-github",
        "colab_type": "text"
      },
      "source": [
        "<a href=\"https://colab.research.google.com/github/inefable12/herramientas_basicas/blob/main/vina_new.ipynb\" target=\"_parent\"><img src=\"https://colab.research.google.com/assets/colab-badge.svg\" alt=\"Open In Colab\"/></a>"
      ]
    },
    {
      "cell_type": "markdown",
      "source": [
        "# AutoDock Vina desde COLAB\n",
        "Jesus Alvarado-Huayhuaz"
      ],
      "metadata": {
        "id": "MrsPyCjm0M2A"
      }
    },
    {
      "cell_type": "markdown",
      "source": [
        "Tomado del canal de Carlos Shiraishi: \\\\\n",
        "https://www.youtube.com/channel/UCSq4rGIePKS1u0ODvYsmR7w"
      ],
      "metadata": {
        "id": "Z0pA-11BzfDO"
      }
    },
    {
      "cell_type": "code",
      "execution_count": 1,
      "metadata": {
        "colab": {
          "base_uri": "https://localhost:8080/"
        },
        "id": "B2Hks8msqstB",
        "outputId": "4592f826-2581-49c5-f53f-1219641d611b"
      },
      "outputs": [
        {
          "output_type": "stream",
          "name": "stdout",
          "text": [
            "Looking in indexes: https://pypi.org/simple, https://us-python.pkg.dev/colab-wheels/public/simple/\n",
            "Collecting vina==1.2.3\n",
            "  Downloading vina-1.2.3-cp37-cp37m-manylinux_2_17_x86_64.manylinux2014_x86_64.whl (7.0 MB)\n",
            "\u001b[K     |████████████████████████████████| 7.0 MB 4.8 MB/s \n",
            "\u001b[?25hRequirement already satisfied: numpy>=1.18 in /usr/local/lib/python3.7/dist-packages (from vina==1.2.3) (1.21.6)\n",
            "Installing collected packages: vina\n",
            "Successfully installed vina-1.2.3\n"
          ]
        }
      ],
      "source": [
        "pip install vina==1.2.3"
      ]
    },
    {
      "cell_type": "code",
      "source": [
        "from google.colab import files\n"
      ],
      "metadata": {
        "id": "ftnSC0KurCj7"
      },
      "execution_count": 2,
      "outputs": []
    },
    {
      "cell_type": "code",
      "source": [
        "from vina import Vina\n",
        "v = Vina()\n",
        "ligand_files = [\"ligand.pdbqt\"]\n",
        "\n",
        "for file in ligand_files:\n",
        "  v.set_receptor(\"mpro.pdbqt\")\n",
        "  v.set_ligand_from_file(file)\n",
        "  v.compute_vina_maps([-22.194, 18.772, -24.459],[30,30,30])\n",
        "  v.dock(exhaustiveness=8)\n",
        "\n",
        "  file_name = file.split('.')[0]\n",
        "  v.write_poses(file_name+\"-results.pdbqt\")\n"
      ],
      "metadata": {
        "id": "zM_kKrOSrGlo"
      },
      "execution_count": 4,
      "outputs": []
    }
  ]
}