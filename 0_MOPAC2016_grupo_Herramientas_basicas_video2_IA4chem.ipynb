{
  "nbformat": 4,
  "nbformat_minor": 0,
  "metadata": {
    "colab": {
      "name": "MOPAC2016_grupo.ipynb",
      "provenance": [],
      "collapsed_sections": []
    },
    "kernelspec": {
      "name": "python3",
      "display_name": "Python 3"
    },
    "language_info": {
      "name": "python"
    }
  },
  "cells": [
    {
      "cell_type": "markdown",
      "source": [
        "# MOPAC2016 desde GOOGLE COLABORATORY"
      ],
      "metadata": {
        "id": "E9s9d1vSpyue"
      }
    },
    {
      "cell_type": "code",
      "execution_count": 1,
      "metadata": {
        "colab": {
          "base_uri": "https://localhost:8080/"
        },
        "id": "oDg--fdMDWny",
        "outputId": "939d3a88-8400-4fb2-9967-1784681e2dd8"
      },
      "outputs": [
        {
          "output_type": "stream",
          "name": "stdout",
          "text": [
            "/opt/MOPAC\n",
            "--2022-04-19 16:35:43--  http://openmopac.net/MOPAC2016_for_Linux_64_bit.zip\n",
            "Resolving openmopac.net (openmopac.net)... 184.168.224.157\n",
            "Connecting to openmopac.net (openmopac.net)|184.168.224.157|:80... connected.\n",
            "HTTP request sent, awaiting response... 200 OK\n",
            "Length: 8345053 (8.0M) [application/x-zip-compressed]\n",
            "Saving to: ‘MOPAC2016_for_Linux_64_bit.zip’\n",
            "\n",
            "MOPAC2016_for_Linux 100%[===================>]   7.96M  4.09MB/s    in 1.9s    \n",
            "\n",
            "2022-04-19 16:35:45 (4.09 MB/s) - ‘MOPAC2016_for_Linux_64_bit.zip’ saved [8345053/8345053]\n",
            "\n",
            "Archive:  /opt/MOPAC/MOPAC2016_for_Linux_64_bit.zip\n",
            "  inflating: Installation instructions.txt  \n",
            "  inflating: Example data set.mop    \n",
            "  inflating: mopac.csh               \n",
            "  inflating: libiomp5.so             \n",
            "  inflating: MOPAC2016.exe           \n"
          ]
        }
      ],
      "source": [
        "# Instalación de MOPAC2016 para trabajar desde colab\n",
        "# No es necesario vincular con drive\n",
        "# Tener en cuenta que al desconectarse de colab,\n",
        "# se borran todos los archivos cargados o generados\n",
        "\n",
        "!mkdir /opt/MOPAC\n",
        "%cd /opt/MOPAC\n",
        "!wget http://openmopac.net/MOPAC2016_for_Linux_64_bit.zip\n",
        "!unzip /opt/MOPAC/MOPAC2016_for_Linux_64_bit.zip\n",
        "!cp -p /opt/MOPAC/libiomp5.so /usr/lib/\n",
        "!chmod 755 MOPAC2016.exe\n",
        "!chmod 777 ."
      ]
    },
    {
      "cell_type": "code",
      "source": [
        "# Creamos una carpeta de trabajo y entramos\n",
        "!mkdir mis_moleculas\n",
        "%cd mis_moleculas/"
      ],
      "metadata": {
        "id": "lmrmZQcnD896",
        "colab": {
          "base_uri": "https://localhost:8080/"
        },
        "outputId": "93f16b84-f775-4ea3-fc78-5751e763201c"
      },
      "execution_count": 2,
      "outputs": [
        {
          "output_type": "stream",
          "name": "stdout",
          "text": [
            "/opt/MOPAC/mis_moleculas\n"
          ]
        }
      ]
    },
    {
      "cell_type": "markdown",
      "source": [
        "__Cargar nuestras moléculas en esta carpeta__"
      ],
      "metadata": {
        "id": "EFHDKHKUqAhW"
      }
    },
    {
      "cell_type": "code",
      "source": [
        "#Si deseas ejecutar solo 1 archivo\n",
        "!../MOPAC2016.exe nombre_input.mop"
      ],
      "metadata": {
        "id": "QXbpNmIPE7po"
      },
      "execution_count": null,
      "outputs": []
    },
    {
      "cell_type": "code",
      "source": [
        "# Si tenemos varios archivos\n",
        "# Asegurarse de encontrarse en la carpeta con los inputs\n",
        "%cd /opt/MOPAC/mis_moleculas/\n",
        "# Creamos un txt de los archivos mop\n",
        "!ls *.mop > inputs.txt\n",
        "# Convertimos este txt en una lista\n",
        "f = open(\"inputs.txt\",\"r\")\n",
        "input_mop = f.read().splitlines()\n",
        "print(input_mop)"
      ],
      "metadata": {
        "colab": {
          "base_uri": "https://localhost:8080/"
        },
        "id": "xOYMCDLxFB_n",
        "outputId": "18e18350-a1d6-499e-ad36-2947deec9a4a"
      },
      "execution_count": 3,
      "outputs": [
        {
          "output_type": "stream",
          "name": "stdout",
          "text": [
            "/opt/MOPAC/mis_moleculas\n",
            "['nombre_input_1.mop', 'nombre_input.mop']\n"
          ]
        }
      ]
    },
    {
      "cell_type": "code",
      "source": [
        "# Ejecutamos mopac\n",
        "for i in input_mop:\n",
        "  print(i)\n",
        "  ! ../MOPAC2016.exe {i}"
      ],
      "metadata": {
        "colab": {
          "base_uri": "https://localhost:8080/"
        },
        "id": "di_uOodKFxmH",
        "outputId": "68a2dc11-d76d-4c77-fb76-35d56b26cea1"
      },
      "execution_count": 4,
      "outputs": [
        {
          "output_type": "stream",
          "name": "stdout",
          "text": [
            "nombre_input_1.mop\n",
            "\n",
            "\n",
            "          MOPAC Job: \"nombre_input_1.mop\" ended normally on Apr 19, 2022, at 16:37.\n",
            "\n",
            "nombre_input.mop\n",
            "\n",
            "\n",
            "          MOPAC Job: \"nombre_input.mop\" ended normally on Apr 19, 2022, at 16:37.\n",
            "\n"
          ]
        }
      ]
    }
  ]
}