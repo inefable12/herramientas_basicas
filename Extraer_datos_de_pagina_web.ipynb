{
  "nbformat": 4,
  "nbformat_minor": 0,
  "metadata": {
    "colab": {
      "provenance": []
    },
    "kernelspec": {
      "name": "python3",
      "display_name": "Python 3"
    },
    "language_info": {
      "name": "python"
    }
  },
  "cells": [
    {
      "cell_type": "markdown",
      "source": [
        "#__Extraer datos desde una página web__\n",
        "###Jesus Alvarado Huayhuaz\n",
        "2022"
      ],
      "metadata": {
        "id": "CdDXZlH8dwne"
      }
    },
    {
      "cell_type": "markdown",
      "source": [
        "Este código corto muestra un ejemplo simple para extraer valores de una página web, como por ejemplo Wikipedia."
      ],
      "metadata": {
        "id": "D307_Jpkd6zl"
      }
    },
    {
      "cell_type": "code",
      "execution_count": null,
      "metadata": {
        "id": "HE4RLX9jf8Af"
      },
      "outputs": [],
      "source": [
        "!apt-get update \n",
        "!apt install chromium-chromedriver \n",
        "!pip install selenium "
      ]
    },
    {
      "cell_type": "code",
      "source": [
        "from selenium import webdriver\n",
        "import time"
      ],
      "metadata": {
        "id": "QvqR92R8eb1b"
      },
      "execution_count": 5,
      "outputs": []
    },
    {
      "cell_type": "code",
      "source": [
        "# IMPORTANTE:\n",
        "# Ejecutar esta celda antes de ejecutar una de las búsquedas siguientes.\n",
        "\n",
        "options = webdriver.ChromeOptions()\n",
        "options.add_argument('--headless')\n",
        "options.add_argument('--no-sandbox')\n",
        "driver = webdriver.Chrome('chromedriver',options=options)\n",
        "driver"
      ],
      "metadata": {
        "colab": {
          "base_uri": "https://localhost:8080/"
        },
        "id": "q_1odDVaebyj",
        "outputId": "7568803d-9f7c-44c9-e0ee-1f092ea6ce93"
      },
      "execution_count": 26,
      "outputs": [
        {
          "output_type": "execute_result",
          "data": {
            "text/plain": [
              "<selenium.webdriver.chrome.webdriver.WebDriver (session=\"bd9717d0a50a88f40c4236494f2f56f5\")>"
            ]
          },
          "metadata": {},
          "execution_count": 26
        }
      ]
    },
    {
      "cell_type": "markdown",
      "source": [
        "Extraer nombre IUPAC, Peso molecular y número CAS."
      ],
      "metadata": {
        "id": "JA_HoaHVetTs"
      }
    },
    {
      "cell_type": "code",
      "source": [
        "driver.get(\"https://es.wikipedia.org/wiki/%C3%81cido_acetilsalic%C3%ADlico\")\n",
        "time.sleep(5)\n",
        "IUPAC = driver.find_element(\"xpath\",'//*[@id=\"mw-content-text\"]/div[1]/table[1]/tbody/tr[5]/td')\n",
        "print('IUPAC: '+ IUPAC.text)\n",
        "MasaMolecular = driver.find_element(\"xpath\",'//*[@id=\"mw-content-text\"]/div[1]/table[1]/tbody/tr[14]/td')\n",
        "print('Masa Molecular: '+ MasaMolecular.text)\n",
        "CAS = driver.find_element(\"xpath\",'//*[@id=\"mw-content-text\"]/div[1]/table[1]/tbody/tr[7]/td/span/a')\n",
        "print('CAS: '+ CAS.text)\n",
        "driver.quit()"
      ],
      "metadata": {
        "colab": {
          "base_uri": "https://localhost:8080/"
        },
        "id": "xYTry_rYebvx",
        "outputId": "574d5420-8011-4e7d-8b21-5f3201b6d390"
      },
      "execution_count": 27,
      "outputs": [
        {
          "output_type": "stream",
          "name": "stdout",
          "text": [
            "IUPAC: Ácido 2-(acetiloxi)-benzoico\n",
            "Masa Molecular: 180,16 g/mol\n",
            "CAS: 50-78-2\n"
          ]
        }
      ]
    },
    {
      "cell_type": "code",
      "source": [
        "driver.get(\"https://es.wikipedia.org/wiki/Isoniacida\")\n",
        "time.sleep(5)\n",
        "IUPAC = driver.find_element(\"xpath\",'//*[@id=\"mw-content-text\"]/div[1]/table/tbody/tr[5]/td')\n",
        "print('IUPAC: '+ IUPAC.text)\n",
        "MasaMolecular = driver.find_element(\"xpath\",'//*[@id=\"mw-content-text\"]/div[1]/table/tbody/tr[13]/td')\n",
        "print('Masa Molecular: '+ MasaMolecular.text)\n",
        "CAS = driver.find_element(\"xpath\",'//*[@id=\"mw-content-text\"]/div[1]/table/tbody/tr[7]/td/span/a')\n",
        "print('CAS: '+ CAS.text)\n",
        "driver.quit()"
      ],
      "metadata": {
        "colab": {
          "base_uri": "https://localhost:8080/"
        },
        "id": "wbgnQ-3mebs5",
        "outputId": "d006bb1a-13cb-467a-acfb-39ff5e6b1a5f"
      },
      "execution_count": 18,
      "outputs": [
        {
          "output_type": "stream",
          "name": "stdout",
          "text": [
            "IUPAC: pyridine-4-carbohydrazide\n",
            "Masa Molecular: 137.139 g/mol\n",
            "CAS: 54-85-3\n"
          ]
        }
      ]
    },
    {
      "cell_type": "code",
      "source": [
        "driver.get(\"https://es.wikipedia.org/wiki/Deferoxamina\")\n",
        "time.sleep(5)\n",
        "IUPAC = driver.find_element(\"xpath\",'//*[@id=\"mw-content-text\"]/div[1]/table/tbody/tr[4]/td')\n",
        "print('IUPAC: '+ IUPAC.text)\n",
        "MasaMolecular = driver.find_element(\"xpath\",'//*[@id=\"mw-content-text\"]/div[1]/table/tbody/tr[14]/td')\n",
        "print('Masa Molecular: '+ MasaMolecular.text)\n",
        "CAS = driver.find_element(\"xpath\",'//*[@id=\"mw-content-text\"]/div[1]/table/tbody/tr[6]/td/span/a')\n",
        "print('CAS: '+ CAS.text)\n",
        "driver.quit()"
      ],
      "metadata": {
        "colab": {
          "base_uri": "https://localhost:8080/"
        },
        "id": "WdraR68KiaSz",
        "outputId": "a7c67416-f1d2-4f9e-e73e-89ad709dba87"
      },
      "execution_count": 22,
      "outputs": [
        {
          "output_type": "stream",
          "name": "stdout",
          "text": [
            "IUPAC: N'-[5-(acetil-hidroxi-amino)pentil]-N-[5-[3-(5-aminopentil-hidroxi-carbamil)propanilamino]pentil]-N-hidroxi-butano diamida\n",
            "Masa Molecular: 560.68402 g/mol\n",
            "CAS: 70-51-9\n"
          ]
        }
      ]
    }
  ]
}