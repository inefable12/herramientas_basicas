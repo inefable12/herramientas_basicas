{
  "nbformat": 4,
  "nbformat_minor": 0,
  "metadata": {
    "colab": {
      "provenance": [],
      "include_colab_link": true
    },
    "kernelspec": {
      "name": "python3",
      "display_name": "Python 3"
    },
    "language_info": {
      "name": "python"
    }
  },
  "cells": [
    {
      "cell_type": "markdown",
      "metadata": {
        "id": "view-in-github",
        "colab_type": "text"
      },
      "source": [
        "<a href=\"https://colab.research.google.com/github/inefable12/herramientas_basicas/blob/main/webscrapping2023_Selenium.ipynb\" target=\"_parent\"><img src=\"https://colab.research.google.com/assets/colab-badge.svg\" alt=\"Open In Colab\"/></a>"
      ]
    },
    {
      "cell_type": "markdown",
      "source": [
        "Jesus Alvarado Huayhuaz\n",
        "\n",
        "inefable12@gmail.com"
      ],
      "metadata": {
        "id": "v7VDV3yNkYoI"
      }
    },
    {
      "cell_type": "markdown",
      "source": [
        "## Selenium"
      ],
      "metadata": {
        "id": "bdfGMTwSkPK6"
      }
    },
    {
      "cell_type": "code",
      "source": [
        "# Install dependencies for install Google-Chrome\n",
        "!sudo apt-get update\n",
        "!sudo apt-get install -y libu2f-udev\n",
        "!pip install selenium\n",
        "\n",
        "# Install Google-Chrome\n",
        "!wget https://dl.google.com/linux/direct/google-chrome-stable_current_amd64.deb\n",
        "!dpkg -i google-chrome-stable_current_amd64.deb\n",
        "!apt-get install -f\n",
        "!rm -rf google-chrome-stable_current_amd64.deb\n",
        "\n",
        "# Dowload WebDriver\n",
        "!wget https://chromedriver.storage.googleapis.com/110.0.5481.77/chromedriver_linux64.zip\n",
        "!unzip chromedriver_linux64\n",
        "!rm -rf chromedriver_linux64.zip\n",
        "!rm -rf LICENSE.chromedriver"
      ],
      "metadata": {
        "id": "UlcojSqoU-OC"
      },
      "execution_count": null,
      "outputs": []
    },
    {
      "cell_type": "markdown",
      "source": [
        "## Lista de enlaces web"
      ],
      "metadata": {
        "id": "Ux-KbVRDbb4e"
      }
    },
    {
      "cell_type": "code",
      "source": [
        "# Definimos una variable base con la URL común a todos los enlaces\n",
        "base_url = 'https://perunpdb.com.pe/#/compuesto/perunpdb_'\n",
        "\n",
        "# Generamos una lista de números consecutivos desde 1 hasta 280, con formato de tres dígitos (001, 002, ...)\n",
        "numeros = ['{:03d}'.format(i) for i in range(1, 281)]\n",
        "\n",
        "# Inicializamos una lista vacía para almacenar los enlaces\n",
        "enlaces = []\n",
        "\n",
        "# Recorremos la lista de números y generamos los enlaces correspondientes\n",
        "for num in numeros:\n",
        "    enlace = base_url + num\n",
        "    enlaces.append(enlace)\n",
        "\n",
        "# Imprimimos la lista de enlaces generados\n",
        "print(enlaces)"
      ],
      "metadata": {
        "colab": {
          "base_uri": "https://localhost:8080/"
        },
        "id": "MxYpEVu1bSiX",
        "outputId": "48b9de2e-56ba-4839-dc0b-ad292c619910"
      },
      "execution_count": 27,
      "outputs": [
        {
          "output_type": "stream",
          "name": "stdout",
          "text": [
            "['https://perunpdb.com.pe/#/compuesto/perunpdb_001', 'https://perunpdb.com.pe/#/compuesto/perunpdb_002', 'https://perunpdb.com.pe/#/compuesto/perunpdb_003', 'https://perunpdb.com.pe/#/compuesto/perunpdb_004', 'https://perunpdb.com.pe/#/compuesto/perunpdb_005', 'https://perunpdb.com.pe/#/compuesto/perunpdb_006', 'https://perunpdb.com.pe/#/compuesto/perunpdb_007', 'https://perunpdb.com.pe/#/compuesto/perunpdb_008', 'https://perunpdb.com.pe/#/compuesto/perunpdb_009', 'https://perunpdb.com.pe/#/compuesto/perunpdb_010', 'https://perunpdb.com.pe/#/compuesto/perunpdb_011', 'https://perunpdb.com.pe/#/compuesto/perunpdb_012', 'https://perunpdb.com.pe/#/compuesto/perunpdb_013', 'https://perunpdb.com.pe/#/compuesto/perunpdb_014', 'https://perunpdb.com.pe/#/compuesto/perunpdb_015', 'https://perunpdb.com.pe/#/compuesto/perunpdb_016', 'https://perunpdb.com.pe/#/compuesto/perunpdb_017', 'https://perunpdb.com.pe/#/compuesto/perunpdb_018', 'https://perunpdb.com.pe/#/compuesto/perunpdb_019', 'https://perunpdb.com.pe/#/compuesto/perunpdb_020', 'https://perunpdb.com.pe/#/compuesto/perunpdb_021', 'https://perunpdb.com.pe/#/compuesto/perunpdb_022', 'https://perunpdb.com.pe/#/compuesto/perunpdb_023', 'https://perunpdb.com.pe/#/compuesto/perunpdb_024', 'https://perunpdb.com.pe/#/compuesto/perunpdb_025', 'https://perunpdb.com.pe/#/compuesto/perunpdb_026', 'https://perunpdb.com.pe/#/compuesto/perunpdb_027', 'https://perunpdb.com.pe/#/compuesto/perunpdb_028', 'https://perunpdb.com.pe/#/compuesto/perunpdb_029', 'https://perunpdb.com.pe/#/compuesto/perunpdb_030', 'https://perunpdb.com.pe/#/compuesto/perunpdb_031', 'https://perunpdb.com.pe/#/compuesto/perunpdb_032', 'https://perunpdb.com.pe/#/compuesto/perunpdb_033', 'https://perunpdb.com.pe/#/compuesto/perunpdb_034', 'https://perunpdb.com.pe/#/compuesto/perunpdb_035', 'https://perunpdb.com.pe/#/compuesto/perunpdb_036', 'https://perunpdb.com.pe/#/compuesto/perunpdb_037', 'https://perunpdb.com.pe/#/compuesto/perunpdb_038', 'https://perunpdb.com.pe/#/compuesto/perunpdb_039', 'https://perunpdb.com.pe/#/compuesto/perunpdb_040', 'https://perunpdb.com.pe/#/compuesto/perunpdb_041', 'https://perunpdb.com.pe/#/compuesto/perunpdb_042', 'https://perunpdb.com.pe/#/compuesto/perunpdb_043', 'https://perunpdb.com.pe/#/compuesto/perunpdb_044', 'https://perunpdb.com.pe/#/compuesto/perunpdb_045', 'https://perunpdb.com.pe/#/compuesto/perunpdb_046', 'https://perunpdb.com.pe/#/compuesto/perunpdb_047', 'https://perunpdb.com.pe/#/compuesto/perunpdb_048', 'https://perunpdb.com.pe/#/compuesto/perunpdb_049', 'https://perunpdb.com.pe/#/compuesto/perunpdb_050', 'https://perunpdb.com.pe/#/compuesto/perunpdb_051', 'https://perunpdb.com.pe/#/compuesto/perunpdb_052', 'https://perunpdb.com.pe/#/compuesto/perunpdb_053', 'https://perunpdb.com.pe/#/compuesto/perunpdb_054', 'https://perunpdb.com.pe/#/compuesto/perunpdb_055', 'https://perunpdb.com.pe/#/compuesto/perunpdb_056', 'https://perunpdb.com.pe/#/compuesto/perunpdb_057', 'https://perunpdb.com.pe/#/compuesto/perunpdb_058', 'https://perunpdb.com.pe/#/compuesto/perunpdb_059', 'https://perunpdb.com.pe/#/compuesto/perunpdb_060', 'https://perunpdb.com.pe/#/compuesto/perunpdb_061', 'https://perunpdb.com.pe/#/compuesto/perunpdb_062', 'https://perunpdb.com.pe/#/compuesto/perunpdb_063', 'https://perunpdb.com.pe/#/compuesto/perunpdb_064', 'https://perunpdb.com.pe/#/compuesto/perunpdb_065', 'https://perunpdb.com.pe/#/compuesto/perunpdb_066', 'https://perunpdb.com.pe/#/compuesto/perunpdb_067', 'https://perunpdb.com.pe/#/compuesto/perunpdb_068', 'https://perunpdb.com.pe/#/compuesto/perunpdb_069', 'https://perunpdb.com.pe/#/compuesto/perunpdb_070', 'https://perunpdb.com.pe/#/compuesto/perunpdb_071', 'https://perunpdb.com.pe/#/compuesto/perunpdb_072', 'https://perunpdb.com.pe/#/compuesto/perunpdb_073', 'https://perunpdb.com.pe/#/compuesto/perunpdb_074', 'https://perunpdb.com.pe/#/compuesto/perunpdb_075', 'https://perunpdb.com.pe/#/compuesto/perunpdb_076', 'https://perunpdb.com.pe/#/compuesto/perunpdb_077', 'https://perunpdb.com.pe/#/compuesto/perunpdb_078', 'https://perunpdb.com.pe/#/compuesto/perunpdb_079', 'https://perunpdb.com.pe/#/compuesto/perunpdb_080', 'https://perunpdb.com.pe/#/compuesto/perunpdb_081', 'https://perunpdb.com.pe/#/compuesto/perunpdb_082', 'https://perunpdb.com.pe/#/compuesto/perunpdb_083', 'https://perunpdb.com.pe/#/compuesto/perunpdb_084', 'https://perunpdb.com.pe/#/compuesto/perunpdb_085', 'https://perunpdb.com.pe/#/compuesto/perunpdb_086', 'https://perunpdb.com.pe/#/compuesto/perunpdb_087', 'https://perunpdb.com.pe/#/compuesto/perunpdb_088', 'https://perunpdb.com.pe/#/compuesto/perunpdb_089', 'https://perunpdb.com.pe/#/compuesto/perunpdb_090', 'https://perunpdb.com.pe/#/compuesto/perunpdb_091', 'https://perunpdb.com.pe/#/compuesto/perunpdb_092', 'https://perunpdb.com.pe/#/compuesto/perunpdb_093', 'https://perunpdb.com.pe/#/compuesto/perunpdb_094', 'https://perunpdb.com.pe/#/compuesto/perunpdb_095', 'https://perunpdb.com.pe/#/compuesto/perunpdb_096', 'https://perunpdb.com.pe/#/compuesto/perunpdb_097', 'https://perunpdb.com.pe/#/compuesto/perunpdb_098', 'https://perunpdb.com.pe/#/compuesto/perunpdb_099', 'https://perunpdb.com.pe/#/compuesto/perunpdb_100', 'https://perunpdb.com.pe/#/compuesto/perunpdb_101', 'https://perunpdb.com.pe/#/compuesto/perunpdb_102', 'https://perunpdb.com.pe/#/compuesto/perunpdb_103', 'https://perunpdb.com.pe/#/compuesto/perunpdb_104', 'https://perunpdb.com.pe/#/compuesto/perunpdb_105', 'https://perunpdb.com.pe/#/compuesto/perunpdb_106', 'https://perunpdb.com.pe/#/compuesto/perunpdb_107', 'https://perunpdb.com.pe/#/compuesto/perunpdb_108', 'https://perunpdb.com.pe/#/compuesto/perunpdb_109', 'https://perunpdb.com.pe/#/compuesto/perunpdb_110', 'https://perunpdb.com.pe/#/compuesto/perunpdb_111', 'https://perunpdb.com.pe/#/compuesto/perunpdb_112', 'https://perunpdb.com.pe/#/compuesto/perunpdb_113', 'https://perunpdb.com.pe/#/compuesto/perunpdb_114', 'https://perunpdb.com.pe/#/compuesto/perunpdb_115', 'https://perunpdb.com.pe/#/compuesto/perunpdb_116', 'https://perunpdb.com.pe/#/compuesto/perunpdb_117', 'https://perunpdb.com.pe/#/compuesto/perunpdb_118', 'https://perunpdb.com.pe/#/compuesto/perunpdb_119', 'https://perunpdb.com.pe/#/compuesto/perunpdb_120', 'https://perunpdb.com.pe/#/compuesto/perunpdb_121', 'https://perunpdb.com.pe/#/compuesto/perunpdb_122', 'https://perunpdb.com.pe/#/compuesto/perunpdb_123', 'https://perunpdb.com.pe/#/compuesto/perunpdb_124', 'https://perunpdb.com.pe/#/compuesto/perunpdb_125', 'https://perunpdb.com.pe/#/compuesto/perunpdb_126', 'https://perunpdb.com.pe/#/compuesto/perunpdb_127', 'https://perunpdb.com.pe/#/compuesto/perunpdb_128', 'https://perunpdb.com.pe/#/compuesto/perunpdb_129', 'https://perunpdb.com.pe/#/compuesto/perunpdb_130', 'https://perunpdb.com.pe/#/compuesto/perunpdb_131', 'https://perunpdb.com.pe/#/compuesto/perunpdb_132', 'https://perunpdb.com.pe/#/compuesto/perunpdb_133', 'https://perunpdb.com.pe/#/compuesto/perunpdb_134', 'https://perunpdb.com.pe/#/compuesto/perunpdb_135', 'https://perunpdb.com.pe/#/compuesto/perunpdb_136', 'https://perunpdb.com.pe/#/compuesto/perunpdb_137', 'https://perunpdb.com.pe/#/compuesto/perunpdb_138', 'https://perunpdb.com.pe/#/compuesto/perunpdb_139', 'https://perunpdb.com.pe/#/compuesto/perunpdb_140', 'https://perunpdb.com.pe/#/compuesto/perunpdb_141', 'https://perunpdb.com.pe/#/compuesto/perunpdb_142', 'https://perunpdb.com.pe/#/compuesto/perunpdb_143', 'https://perunpdb.com.pe/#/compuesto/perunpdb_144', 'https://perunpdb.com.pe/#/compuesto/perunpdb_145', 'https://perunpdb.com.pe/#/compuesto/perunpdb_146', 'https://perunpdb.com.pe/#/compuesto/perunpdb_147', 'https://perunpdb.com.pe/#/compuesto/perunpdb_148', 'https://perunpdb.com.pe/#/compuesto/perunpdb_149', 'https://perunpdb.com.pe/#/compuesto/perunpdb_150', 'https://perunpdb.com.pe/#/compuesto/perunpdb_151', 'https://perunpdb.com.pe/#/compuesto/perunpdb_152', 'https://perunpdb.com.pe/#/compuesto/perunpdb_153', 'https://perunpdb.com.pe/#/compuesto/perunpdb_154', 'https://perunpdb.com.pe/#/compuesto/perunpdb_155', 'https://perunpdb.com.pe/#/compuesto/perunpdb_156', 'https://perunpdb.com.pe/#/compuesto/perunpdb_157', 'https://perunpdb.com.pe/#/compuesto/perunpdb_158', 'https://perunpdb.com.pe/#/compuesto/perunpdb_159', 'https://perunpdb.com.pe/#/compuesto/perunpdb_160', 'https://perunpdb.com.pe/#/compuesto/perunpdb_161', 'https://perunpdb.com.pe/#/compuesto/perunpdb_162', 'https://perunpdb.com.pe/#/compuesto/perunpdb_163', 'https://perunpdb.com.pe/#/compuesto/perunpdb_164', 'https://perunpdb.com.pe/#/compuesto/perunpdb_165', 'https://perunpdb.com.pe/#/compuesto/perunpdb_166', 'https://perunpdb.com.pe/#/compuesto/perunpdb_167', 'https://perunpdb.com.pe/#/compuesto/perunpdb_168', 'https://perunpdb.com.pe/#/compuesto/perunpdb_169', 'https://perunpdb.com.pe/#/compuesto/perunpdb_170', 'https://perunpdb.com.pe/#/compuesto/perunpdb_171', 'https://perunpdb.com.pe/#/compuesto/perunpdb_172', 'https://perunpdb.com.pe/#/compuesto/perunpdb_173', 'https://perunpdb.com.pe/#/compuesto/perunpdb_174', 'https://perunpdb.com.pe/#/compuesto/perunpdb_175', 'https://perunpdb.com.pe/#/compuesto/perunpdb_176', 'https://perunpdb.com.pe/#/compuesto/perunpdb_177', 'https://perunpdb.com.pe/#/compuesto/perunpdb_178', 'https://perunpdb.com.pe/#/compuesto/perunpdb_179', 'https://perunpdb.com.pe/#/compuesto/perunpdb_180', 'https://perunpdb.com.pe/#/compuesto/perunpdb_181', 'https://perunpdb.com.pe/#/compuesto/perunpdb_182', 'https://perunpdb.com.pe/#/compuesto/perunpdb_183', 'https://perunpdb.com.pe/#/compuesto/perunpdb_184', 'https://perunpdb.com.pe/#/compuesto/perunpdb_185', 'https://perunpdb.com.pe/#/compuesto/perunpdb_186', 'https://perunpdb.com.pe/#/compuesto/perunpdb_187', 'https://perunpdb.com.pe/#/compuesto/perunpdb_188', 'https://perunpdb.com.pe/#/compuesto/perunpdb_189', 'https://perunpdb.com.pe/#/compuesto/perunpdb_190', 'https://perunpdb.com.pe/#/compuesto/perunpdb_191', 'https://perunpdb.com.pe/#/compuesto/perunpdb_192', 'https://perunpdb.com.pe/#/compuesto/perunpdb_193', 'https://perunpdb.com.pe/#/compuesto/perunpdb_194', 'https://perunpdb.com.pe/#/compuesto/perunpdb_195', 'https://perunpdb.com.pe/#/compuesto/perunpdb_196', 'https://perunpdb.com.pe/#/compuesto/perunpdb_197', 'https://perunpdb.com.pe/#/compuesto/perunpdb_198', 'https://perunpdb.com.pe/#/compuesto/perunpdb_199', 'https://perunpdb.com.pe/#/compuesto/perunpdb_200', 'https://perunpdb.com.pe/#/compuesto/perunpdb_201', 'https://perunpdb.com.pe/#/compuesto/perunpdb_202', 'https://perunpdb.com.pe/#/compuesto/perunpdb_203', 'https://perunpdb.com.pe/#/compuesto/perunpdb_204', 'https://perunpdb.com.pe/#/compuesto/perunpdb_205', 'https://perunpdb.com.pe/#/compuesto/perunpdb_206', 'https://perunpdb.com.pe/#/compuesto/perunpdb_207', 'https://perunpdb.com.pe/#/compuesto/perunpdb_208', 'https://perunpdb.com.pe/#/compuesto/perunpdb_209', 'https://perunpdb.com.pe/#/compuesto/perunpdb_210', 'https://perunpdb.com.pe/#/compuesto/perunpdb_211', 'https://perunpdb.com.pe/#/compuesto/perunpdb_212', 'https://perunpdb.com.pe/#/compuesto/perunpdb_213', 'https://perunpdb.com.pe/#/compuesto/perunpdb_214', 'https://perunpdb.com.pe/#/compuesto/perunpdb_215', 'https://perunpdb.com.pe/#/compuesto/perunpdb_216', 'https://perunpdb.com.pe/#/compuesto/perunpdb_217', 'https://perunpdb.com.pe/#/compuesto/perunpdb_218', 'https://perunpdb.com.pe/#/compuesto/perunpdb_219', 'https://perunpdb.com.pe/#/compuesto/perunpdb_220', 'https://perunpdb.com.pe/#/compuesto/perunpdb_221', 'https://perunpdb.com.pe/#/compuesto/perunpdb_222', 'https://perunpdb.com.pe/#/compuesto/perunpdb_223', 'https://perunpdb.com.pe/#/compuesto/perunpdb_224', 'https://perunpdb.com.pe/#/compuesto/perunpdb_225', 'https://perunpdb.com.pe/#/compuesto/perunpdb_226', 'https://perunpdb.com.pe/#/compuesto/perunpdb_227', 'https://perunpdb.com.pe/#/compuesto/perunpdb_228', 'https://perunpdb.com.pe/#/compuesto/perunpdb_229', 'https://perunpdb.com.pe/#/compuesto/perunpdb_230', 'https://perunpdb.com.pe/#/compuesto/perunpdb_231', 'https://perunpdb.com.pe/#/compuesto/perunpdb_232', 'https://perunpdb.com.pe/#/compuesto/perunpdb_233', 'https://perunpdb.com.pe/#/compuesto/perunpdb_234', 'https://perunpdb.com.pe/#/compuesto/perunpdb_235', 'https://perunpdb.com.pe/#/compuesto/perunpdb_236', 'https://perunpdb.com.pe/#/compuesto/perunpdb_237', 'https://perunpdb.com.pe/#/compuesto/perunpdb_238', 'https://perunpdb.com.pe/#/compuesto/perunpdb_239', 'https://perunpdb.com.pe/#/compuesto/perunpdb_240', 'https://perunpdb.com.pe/#/compuesto/perunpdb_241', 'https://perunpdb.com.pe/#/compuesto/perunpdb_242', 'https://perunpdb.com.pe/#/compuesto/perunpdb_243', 'https://perunpdb.com.pe/#/compuesto/perunpdb_244', 'https://perunpdb.com.pe/#/compuesto/perunpdb_245', 'https://perunpdb.com.pe/#/compuesto/perunpdb_246', 'https://perunpdb.com.pe/#/compuesto/perunpdb_247', 'https://perunpdb.com.pe/#/compuesto/perunpdb_248', 'https://perunpdb.com.pe/#/compuesto/perunpdb_249', 'https://perunpdb.com.pe/#/compuesto/perunpdb_250', 'https://perunpdb.com.pe/#/compuesto/perunpdb_251', 'https://perunpdb.com.pe/#/compuesto/perunpdb_252', 'https://perunpdb.com.pe/#/compuesto/perunpdb_253', 'https://perunpdb.com.pe/#/compuesto/perunpdb_254', 'https://perunpdb.com.pe/#/compuesto/perunpdb_255', 'https://perunpdb.com.pe/#/compuesto/perunpdb_256', 'https://perunpdb.com.pe/#/compuesto/perunpdb_257', 'https://perunpdb.com.pe/#/compuesto/perunpdb_258', 'https://perunpdb.com.pe/#/compuesto/perunpdb_259', 'https://perunpdb.com.pe/#/compuesto/perunpdb_260', 'https://perunpdb.com.pe/#/compuesto/perunpdb_261', 'https://perunpdb.com.pe/#/compuesto/perunpdb_262', 'https://perunpdb.com.pe/#/compuesto/perunpdb_263', 'https://perunpdb.com.pe/#/compuesto/perunpdb_264', 'https://perunpdb.com.pe/#/compuesto/perunpdb_265', 'https://perunpdb.com.pe/#/compuesto/perunpdb_266', 'https://perunpdb.com.pe/#/compuesto/perunpdb_267', 'https://perunpdb.com.pe/#/compuesto/perunpdb_268', 'https://perunpdb.com.pe/#/compuesto/perunpdb_269', 'https://perunpdb.com.pe/#/compuesto/perunpdb_270', 'https://perunpdb.com.pe/#/compuesto/perunpdb_271', 'https://perunpdb.com.pe/#/compuesto/perunpdb_272', 'https://perunpdb.com.pe/#/compuesto/perunpdb_273', 'https://perunpdb.com.pe/#/compuesto/perunpdb_274', 'https://perunpdb.com.pe/#/compuesto/perunpdb_275', 'https://perunpdb.com.pe/#/compuesto/perunpdb_276', 'https://perunpdb.com.pe/#/compuesto/perunpdb_277', 'https://perunpdb.com.pe/#/compuesto/perunpdb_278', 'https://perunpdb.com.pe/#/compuesto/perunpdb_279', 'https://perunpdb.com.pe/#/compuesto/perunpdb_280']\n"
          ]
        }
      ]
    },
    {
      "cell_type": "markdown",
      "source": [
        "## Extrayendo SMILES de la página"
      ],
      "metadata": {
        "id": "UVOKUKo9j82w"
      }
    },
    {
      "cell_type": "code",
      "source": [
        "lista_smiles = []\n",
        "\n",
        "for i in enlaces:\n",
        "  chrome_options = Options()\n",
        "  chrome_options.add_argument('--headless')\n",
        "  chrome_options.add_argument('--no-sandbox')\n",
        "\n",
        "  chrome_driver_path = '/content/chromedriver'\n",
        "  service = Service(chrome_driver_path)\n",
        "  driver = webdriver.Chrome(service=service, options=chrome_options)\n",
        "\n",
        "  driver.get(i)\n",
        "  time.sleep(1)\n",
        "  smiles = driver.find_element(\"xpath\",'//*[@id=\"root\"]/div/div[2]/div[1]/div[4]/h6')\n",
        "  lista_smiles.append(smiles.text)"
      ],
      "metadata": {
        "id": "LZk3eY0dVywO"
      },
      "execution_count": 28,
      "outputs": []
    },
    {
      "cell_type": "markdown",
      "source": [
        "## Guardamos en un CSV"
      ],
      "metadata": {
        "id": "wOA4fYR7kHZZ"
      }
    },
    {
      "cell_type": "code",
      "source": [
        "import csv\n",
        "\n",
        "with open('perunpdb.csv', 'w', newline='') as archivo_csv:\n",
        "    writer = csv.writer(archivo_csv)\n",
        "    for elemento in lista_smiles:\n",
        "        writer.writerow([elemento])"
      ],
      "metadata": {
        "id": "zEnB_9SXdUKP"
      },
      "execution_count": 29,
      "outputs": []
    },
    {
      "cell_type": "markdown",
      "source": [
        "## Visualizamos el csv"
      ],
      "metadata": {
        "id": "M8pD2qdnkKXb"
      }
    },
    {
      "cell_type": "code",
      "source": [
        "!cat perunpdb.csv"
      ],
      "metadata": {
        "colab": {
          "base_uri": "https://localhost:8080/"
        },
        "id": "t_OnMUPadp0T",
        "outputId": "cf62f584-946f-43f5-bec1-c1373c92cd25"
      },
      "execution_count": 30,
      "outputs": [
        {
          "output_type": "stream",
          "name": "stdout",
          "text": [
            "CC=C1C2C3(C=CC4C3C(O2)OC=C4C(=O)OC)OC1=O\r\n",
            "CC=C1C2C3(C=CC4C3C(O2)OC=C4C(=O)OC)OC1=O\r\n",
            "CC(=O)OCC1=C\\2C(CC(C)(O)C3(O)CCC(O3)\\C=C2OC1=O)OC(C)=O\r\n",
            "CCOCC1=C\\2C(CC(C)(O)C3(O)CCC(O3)\\C=C2OC1=O)OC(C)=O\r\n",
            "CC1CCC2(CCC3(C(=CCC4C3(CCC5C4(CCC(C5(C)C)O)C)C)C2C1C)C)C(=O)O\r\n",
            "CCCCCCCC(=O)O\r\n",
            "CCCCCCCCCC(=O)O\r\n",
            "CCCCCCCCCCCC(=O)O\r\n",
            "CCCCCCCCCCCCCC(=O)O\r\n",
            "CCCCC=CCCCCCCCC(=O)O\r\n",
            "CCCCCCCCCCCCCCC(=O)O\r\n",
            "CCCCCCCCCCCCCCCC(=O)O\r\n",
            "CCCCCCC=CCCCCCCCC(=O)O\r\n",
            "CCCCCCCCCCCCCCCCCC(=O)O\r\n",
            "CCCCCCCCC=CCCCCCCCC(=O)O\r\n",
            "CCCCCCCCCCCCCCCCCCCC(=O)O\r\n",
            "CCC=CCC=CCC=CCCCCCCCC(=O)O\r\n",
            "CCCCCCCCC=CCCCCCCCCCC(=O)O\r\n",
            "CCCCCCCC/C=C\\CCCCCCCCCCCC(=O)O\r\n",
            "CC1C(C(C(C(O1)OC2C(OC3=CC(=CC(=C3C2=O)O)O)C4=CC(=C(C=C4)O)O)O)O)O\r\n",
            "CC1(CCC2(CCC3(C(=CCC4C3(CCC5C4(CCC(C5(C)C)O)C)C)C2C1)C)C(=O)O)C\r\n",
            "CC1CCC2(CCC3(C(=CCC4C3(CCC5C4(CCC(C5(C)C)O)C)C)C2C1C)C(=O)O)C(=O)O\r\n",
            "COC1=C(C=C(C=C1O)C2C(CC3=C(O2)C(=C(C=C3O)O)C4C(C(OC5=CC(=CC(=C45)O)O)C6=CC=C(C=C6)O)O)O)O\r\n",
            "C1C(C(OC2=CC(=CC(=C21)O)O)C3=CC(=C(C=C3)O)O)O\r\n",
            "C1C(C(OC2=CC(=CC(=C21)O)O)C3=CC(=C(C=C3)O)O)O\r\n",
            "CC1(CCCC2C1(C(CC3C2(CCC(C3)(CO)C=C)C)O)O)C\r\n",
            "CC1(C)CCCC2[C@@]3(C)CC[C@@](C=C)(CO)CC3CC[C@]21O\r\n",
            "COC1=CC(=C(C(=C1)OC)C(=O)C=CC2=CC(=C(C=C2)O)OC)O\r\n",
            "COC1=C(C(=C(C(=C1)O)C(=O)C=CC2=CC(=C(C=C2)O)O)OC)OC\r\n",
            "COC1=CC(=C(C=C1)O)C2CC(=O)C3=C(C=C(C=C3O2)OC)O\r\n",
            "COC1=CC=CC(=C1)C2CC(=O)C3=C(OC)C=C(OC)C(=C3O2)O\r\n",
            "CC1=C(C(=C(C(=C1O)C(=O)C=CC2=CC=CC=C2)OC)C)O\r\n",
            "COC1=CC(=C(C(=C1C(=O)C=CC2=CC=CC=C2)O)O)OC\r\n",
            "COC1=C(O)C=CC(=C1)/C=C/C(=O)C2=C(O)C=C(O)C=C2OC\r\n",
            "COC1=C(C(=C(C(=C1)O)OC)O)C(=O)C=CC2=CC=CC=C2\r\n",
            "COC1=C(C=C(C=C1)C=CC(=O)C2=C(C=C(C=C2OC)OC)O)OC\r\n",
            "C1C(C(C(CC1(C(=O)O)O)OC(=O)C=CC2=CC=C(C=C2)O)O)O\r\n",
            "C1=CC=C2C(=C1)C(=CN2)CC(C(=O)O)NC(=O)C=CC3=CC=C(C=C3)O\r\n",
            "C1C(C(C(CC1(C(=O)O)O)OC(=O)C=CC2=CC(=C(C=C2)O)O)O)O\r\n",
            "C1C(C(C(CC1(C(=O)O)O)OC(=O)C=CC2=CC(=C(C=C2)O)O)O)O\r\n",
            "C1C(C(C(CC1(C(=O)O)O)OC(=O)C=CC2=CC(=C(C=C2)O)O)O)O\r\n",
            "C1=CC=C2C(=C1)C(=CN2)CC(C(=O)O)NC(=O)C=CC3=CC(=C(C=C3)O)O\r\n",
            "COC1=C(C=CC(=C1)C=CC(=O)OC2CC(CC(C2O)O)(C(=O)O)O)O\r\n",
            "COC1=C(C=CC(=C1)C=CC(=O)OC2CC(CC(C2O)O)(C(=O)O)O)O\r\n",
            "C1C(C(C(CC1(C(=O)O)O)OC(=O)C=CC2=CC(=C(C=C2)O)O)OC(=O)C=CC3=CC(=C(C=C3)O)O)O\r\n",
            "C1C(C(C(CC1(C(=O)O)O)OC(=O)C=CC2=CC(=CC(=C2)O)O)O)OC(=O)C=CC3=CC(=C(C=C3)O)O\r\n",
            "C1C(C(C(CC1(C(=O)O)O)OC(=O)C=CC2=CC(=C(C=C2)O)O)OC(=O)C=CC3=CC(=C(C=C3)O)O)O\r\n",
            "COC1=C(O)C=CC(\\C=C/C(=O)OC2CC(O)(CC(O)C2OC(=O)\\C=C/C2=CC(O)=C(O)C=C2)C(O)=O)=C1\r\n",
            "COC1=C(C=CC(=C1)C=CC(=O)OC2CC(CC(C2O)OC(=O)C=CC3=CC(=C(C=C3)O)O)(C(=O)O)O)O\r\n",
            "COC1=C(C=CC(=C1)C=CC(=O)OC2C(CC(CC2OC(=O)C=CC3=CC(=C(C=C3)O)O)(C(=O)O)O)O)O\r\n",
            "CN1C=NC2=C1C(=O)N(C(=O)N2C)C\r\n",
            "CC1CC=C(C1CCC(C)C2CC3(CC(=O)C(C3CC2=O)C(C)C)C)C(=O)C\r\n",
            "C1CC2=C(C=C(C=C2OC1C3=CC(=C(C(=C3)O)OC(=O)C4=CC(=C(C(=C4)O)O)O)O)OC(=O)C5=CC(=C(C(=C5)O)O)O)O\r\n",
            "C1=CC(=C(C=C1C2=C(C(=O)C3=C(C=C(C=C3O2)O)O)OC4C(C(C(C(O4)CO)O)O)O)O)O\r\n",
            "C1=CC(=C(C=C1C2=[O+]C3=CC(=CC(=C3C=C2OC4C(C(C(C(O4)CO)O)O)O)O)O)O)O\r\n",
            "C1=CC(=CC=C1C2=[O+]C3=CC(=CC(=C3C=C2OC4C(C(C(C(O4)CO)O)O)O)O)O)O\r\n",
            "COC1=CC(=C2C=C(OC3OC(CO)C(O)C(O)C3O)C(OC2=C1)C4=CC(=C(O)C=C4)O)O\r\n",
            "COC1=CC(=C2C=C(OCC3OC(OC(=O)C4=CC(=C(O)C(=C4)O)O)C(O)C(O)C3O)C(OC2=C1)C5=CC(=C(O)C=C5)O)O\r\n",
            "COC1=CC(=C2C=C(OC3OC(CO)C(O)C(O)C3O)C(OC2=C1)C4=CC=C(O)C=C4)O\r\n",
            "C1=CC(=CC=C1C2=CC(=O)C3=C(O2)C=C(C(=C3O)C4=C(C=C(C5=C4OC(=CC5=O)C6=CC=C(C=C6)O)O)O)O)O\r\n",
            "C1=CC(=CC=C1C2=CC(=O)C3=C(O2)C(=C(C=C3O)O)C4=C(C=CC(=C4)C5=CC(=O)C6=C(C=C(C=C6O5)O)O)O)O\r\n",
            "OC1=CC=C(C=C1)C2CC(=O)C3=C(O2)C(=C(O)C=C3O)C4=C(O)C=CC(=C4)C5CC(=O)C6=C(O)C=C(O)C=C6O5\r\n",
            "OCC1OC(OC2=CC3=C(O)C=C(O)C=C3OC2C4=CC=C(O)C=C4)C(O)C(O)C1O\r\n",
            "OC1=CC=C(C=C1)C2CC(=O)C3=C(O2)C(=C(O)C=C3O)C4=C(O)C=CC(=C4)C5CC(=O)C6=C(O)C=C(O)C=C6O5\r\n",
            "COC1=CC(=CC(=C1O)OC)C=CC(=O)O\r\n",
            "COC1=CC(=CC(=C1O)OC)C2OC3=C(C(C)C4=C5OC(C(O)CC5=C(O)C=C4O)C6=CC(=C(O)C=C6)O)C(=CC(=C3C=C2OC7OC(CO)C(O)C(O)C7O)O)O\r\n",
            "C1=CC(=C(C=C1C2=[O+]C3=CC(=CC(=C3C=C2OC4C(C(C(C(O4)CO)O)O)O)O)O)O)O.[Cl-]\r\n",
            "C1=CC(=CC=C1C2=[O+]C3=CC(=CC(=C3C=C2OC4C(C(C(C(O4)CO)O)O)O)O)O)O.[Cl-]\r\n",
            "COC1=C(C=CC(=C1)C2=[O+]C3=CC(=CC(=C3C=C2OC4C(C(C(C(O4)CO)O)O)O)O)O)O\r\n",
            "C1=CC(=C(C=C1C2=[O+]C3=CC(=CC(=C3C=C2OC4C(C(C(C(O4)COC(=O)CC(=O)O)O)O)O)O)O)O)O\r\n",
            "OC1C(O)C(COC(=O)CC(O)=O)OC(OC2=CC3=C(O)C=C(O)C=C3OC2C4=CC=C(O)C=C4)C1O\r\n",
            "COC1=CC(=CC=C1O)C2OC3=CC(=CC(=C3C=C2OC4OC(COC(=O)CC(O)=O)C(O)C(O)C4O)O)O\r\n",
            "C1=CC(=C(C=C1C2=[O+]C3=CC(=CC(=C3C=C2OC4C(OC(C(C4O)OC(=O)CC(=O)O)OC(=O)CC(=O)O)CO)O)O)O)O\r\n",
            "CCCCCCCCC1=C(C1)CCCCCCCC(=O)O\r\n",
            "CC(C)CCCCCC(=O)NCC1=CC(=C(C=C1)O)OC\r\n",
            "CC(C)C=CCCCCC(=O)NCC1=CC(=C(C=C1)O)OC\r\n",
            "CC(C)CCCCCCC(=O)NCC1=CC(=C(C=C1)O)OC\r\n",
            "C1=CC(=C(C=C1C2=CC(=O)C3=C(C=C(C=C3O2)O)O)O)O\r\n",
            "C(C(C1C(=C(C(=O)O1)O)O)O)O\r\n",
            "CC1C(C(C(C(O1)OCC2C(C(C(C(O2)OC3=C([O+]=C4C=C(C=C(C4=C3)OC5C(C(C(C(O5)CO)O)O)O)O)C6=CC=C(C=C6)O)O)O)O)O)O)O\r\n",
            "CC1C(C(C(C(O1)OCC2C(C(C(C(O2)OC3=CC4=C(C=C(C=C4[O+]=C3C5=CC=C(C=C5)O)O)O)O)O)O)O)O)O\r\n",
            "CC1OC(OCC2OC(OC3=CC4=C(OC5OC(CO)C(O)C(O)C5O)C=C(O)C=C4OC3C6=CC=C(O)C=C6)C(O)C(O)C2O)C(O)C(O)C1OC7=C(O)C=C(\\C=C\\C(O)=O)C=C7\r\n",
            "COC1=CC(=CC=C1O)C2=C(CC3=C(OC4OC(CO)C(O)C(O)C4O)C=C(O)C=C3O2)OC5OC(COC6OC(C)C(OC7=C(O)C=C(\\C=C\\C(O)=O)C=C7)C(O)C6O)C(O)C(O)C5O\r\n",
            "CC1OC(OCC2OC(OC3=C(OC4=CC(=CC(=C4C3)OC5OC(CO)C(O)C(O)C5O)O)C6=CC=C(O)C(=C6)O)C(O)C(O)C2O)C(O)C(O)C1OC7=CC=C(\\C=C\\C(O)=O)C=C7\r\n",
            "CC1OC(OCC2OC(OC3=C(OC4=CC(=CC(=C4C3)OC5OC(CO)C(O)C(O)C5O)O)C6=CC=C(O)C=C6)C(O)C(O)C2O)C(O)C(O)C1OC7=CC=C(\\C=C\\C(O)=O)C=C7\r\n",
            "COC1=CC(=CC=C1O)C2=C(CC3=C(OC4OC(CO)C(O)C(O)C4O)C=C(O)C=C3O2)OC5OC(COC6OC(C)C(OC7=CC=C(\\C=C\\C(O)=O)C=C7)C(O)C6O)C(O)C(O)C5O\r\n",
            "COC1=CC(=CC=C1OC2C(C)OC(OCC3OC(OC4=C(OC5=CC(=CC(=C5C4)OC6OC(CO)C(O)C(O)C6O)O)C7=CC=C(O)C=C7)C(O)C(O)C3O)C(O)C2O)\\C=C\\C(O)=O\r\n",
            "COC1=CC(=CC=C1O)C2=C(CC3=C(OC4OC(CO)C(O)C(O)C4O)C=C(O)C=C3O2)OC5OC(COC6OC(C)C(OC7=CC=C(\\C=C\\C(O)=O)C=C7OC)C(O)C6O)C(O)C(O)C5O\r\n",
            "COC1=CC(=CC=C1O)C2=C(CC3=C(OC4OC(CO)C(O)C(O)C4O)C=C(O)C=C3O2)OC5OC(COC6OC(C)C(OC7=CC=C(\\C=C\\C(O)=O)C=C7)C(O)C6O)C(O)C(O)C5O\r\n",
            "COC1=CC(=CC(=C1O)O)C2=C(CC3=C(OC4OC(CO)C(O)C(O)C4O)C=C(O)C=C3O2)OC5OC(COC6OC(C)C(OC7=C(O)C=C(\\C=C\\C(O)=O)C=C7)C(O)C6O)C(O)C(O)C5O\r\n",
            "COC1=CC(=CC(=C1O)O)C2=C(CC3=C(OC4OC(CO)C(O)C(O)C4O)C=C(O)C=C3O2)OC5OC(COC6OC(C)C(OC7=CC=C(\\C=C\\C(O)=O)C=C7OC)C(O)C6O)C(O)C(O)C5O\r\n",
            "COC1=CC(=CC(=C1O)OC)C2=C(CC3=C(OC4OC(CO)C(O)C(O)C4O)C=C(O)C=C3O2)OC5OC(COC6OC(C)C(OC7=CC=C(\\C=C\\C(O)=O)C=C7)C(O)C6O)C(O)C(O)C5O\r\n",
            "CCCCCCCCCCCCCCCCC(=O)O\r\n",
            "CCCCCCC=CCCCCCCCCCC(=O)O\r\n",
            "CC1=C(C=C2CCC(OC2=C1C)(C)CCCC(C)CCCC(C)CCCC(C)C)O\r\n",
            "CC1=CC(=CC2=C1OC(CC2)(C)CCCC(C)CCCC(C)CCCC(C)C)O\r\n",
            "CC(C)CCCC(C)C1CCC2C1(CCC3C2CC=C4C3(CCC(C4)O)C)C\r\n",
            "CC(C)C(C)CCC(C)C1CCC2C1(CCC3C2CC=C4C3(CCC(C4)O)C)C\r\n",
            "CCC(CCC(C)C1CCC2C1(CCC3C2CC=C4C3(CCC(C4)O)C)C)C(=C)C\r\n",
            "CCC(CCC(C)C1CCC2C1(CCC3C2CC=C4C3(CCC(C4)O)C)C)C(C)C\r\n",
            "CCC(CCC(C)C1CCC2C1(CCC3C2CCC4C3(CCC(C4)O)C)C)C(C)C\r\n",
            "CC=C(CCC(C)C1CCC2C1(CCC3C2CC=C4C3(CCC(C4C)OC(=O)C)C)C)C(C)C\r\n",
            "CCC(CCC(C)C1CCC2C1(CCC3C2CC=C4C3(CCC(C4)OC(=O)C)C)C)(C(C)C)OC(=O)C\r\n",
            "CC(C)C(CCC(C)C1CCC2C1(CCC3C2CCC4C3(CCCC4)C)C)C=CO\r\n",
            "CC=C(CCC(C)C1CCC2C1(CCC3C2=CCC4C3(CCC(C4)O)C)C)C(C)C\r\n",
            "CC(=O)OCC1=COC(C2C1C3C(C3(C)C)CCC24CO4)OC(=O)C\r\n",
            "CC(=O)OC1OC=C(COCO)C2C1C3(CCC4C2C4(C)C)CO3\r\n",
            "CC(=O)OCC1=COC(C2C1C3C(C3(C)COC(=O)C)CCC24CO4)OC(=O)C\r\n",
            "CC1CCC2C(C3(C1CCC3=O)C)OC(=O)C2=C\r\n",
            "CC1CC2C(CC3(C1CCC3=O)C)C(=C)C(=O)O2\r\n",
            "CC1(CCC2C(=C1)CCC3C2(CCCC3(C)C(=O)O)C)C=C\r\n",
            "COC1=C(C)C=C(OC(=O)C(C)C)C(=C1)C(=C)COC(C)=O\r\n",
            "COC1=C(C)C=C(OC(=O)C(C)C)C(=C1)C2(COC(C)=O)CO2\r\n",
            "COC1=C(C)C=C(O)C(=C1)C(O)(COC(C)=O)COC(=O)C(C)C\r\n",
            "CC=CC1=CC2=C(C(=C1)OC)OC(C2C)C3=CC(=C(C=C3)O)OC\r\n",
            "COC1=CC=C2C(=CC1=O)C3=NC=CC4=C3C2=C(C(=C4OC)OC)OC\r\n",
            "COC1=C(C(=C2C3=CC=C(C(=O)C=C3C4=NC=CC1=C24)O)OC)OC\r\n",
            "COC1=CC2=C(C=CC1=O)C3=C(C(=C(C4=C3C2=NC=C4)OC)OC)OC\r\n",
            "COC1=C(C2=C(C=C1)C3=C(C(=C(C4=C3C2=NC=C4)OC)OC)OC)OC\r\n",
            "COC1=C(C(=C2C3=C(C=C(C=C3)O)C4=NC=CC1=C24)OC)OC\r\n",
            "COC1=C2C3=C(C4=CC=CC=C41)C(=C(C(=C3C(=N)C(=O)N2)O)OC)OC\r\n",
            "COC1=C(C(=C2C3=CC=CC=C3C(=O)C4=NC=CC1=C24)OC)OC\r\n",
            "O=C1C2=CC=CC=C2C3=C(OC)C(OC)=C(OC)C4=C3C1=NC=C4OC\r\n",
            "COC1=C(C2=C3C(=C1)C=CN=C3C(=O)C4=CC=CC=C42)OC\r\n",
            "COC1=C(C2=C3C(=C1)C(=CN=C3C(=O)C4=CC=CC=C42)OC)OC\r\n",
            "COC1=CC=CC2=C1N3CC45CC6C3(C27CCN8C7C9(C6)CCOC9CC8)OC4N1CCC23C1C1(C5OCC1)CC(=C2NC1=CC=CC=C31)C(=O)OC\r\n",
            "CC1CCC2(CCC3(C(=CCC4C3(CCC5C4(CC(=O)C(C5(C)C)O)C)C)C2C1(C)O)C)C(=O)O\r\n",
            "CC1CCC2(CCC3(C(=CCC4C3(CCC5C4(CCC(C5(C)C)O)C)C)C2C1(C)O)C)C(=O)O\r\n",
            "CC1CCC2(CCC3(C(=CCC4C3(CCC5C4(CCC(C5(C)C)OC(=O)C)C)C)C2C1(C)O)C)C(=O)O\r\n",
            "CC(=C)C(=O)OC1CC(=C)CC2(O)CC(=C)C(O2)C3OC(=O)C(=C)C13\r\n",
            "CC1CC(=O)C2=C1C3OC(=O)C(=C)C3C(CC2=C)OC(=O)C(C)=C\r\n",
            "CC1CC(=O)C2=C(C)CC(OC(=O)C(C)=C)C3C(OC(=O)C3=C)C12O\r\n",
            "CC1=CC(=O)C=C(C(C2C(C(C1)OC(=O)C(=C)C)C(=C)C(=O)O2)O)C\r\n",
            "CC(=C)C(=O)OC1CC2=CC(CC3(C(O3)C4C1C(=C)C(=O)O4)C)OC2=O\r\n",
            "CC(=C)C(=O)OC1CC2=CC(CC3(C(O3)C4C1C(=C)C(=O)O4)C)OC2=O\r\n",
            "CO[CH]\\12OC(C3OC(=O)C(=C)C3C(C\\C(=C1)C)OC(=O)C(C)=C)C(=C2)C\r\n",
            "CC(=CC(=O)OC)CCC1C(=C)CCC2C1(CCCC2(C)C(=O)O)C\r\n",
            "CC12CCCC(C)(C1CCC(=C)C2CCC3=COC=C3)C(O)=O\r\n",
            "CC12CCCC(C1CCC(=C)C2CCC3=COC=C3)(C)C(=O)O\r\n",
            "COC(=O)C1(C)CCCC2(C)C(CCC3=COC=C3)C(=C)CCC12\r\n",
            "CC(CCC1C(=C)CCC2C1(CCCC2(C)C(=O)O)C)CC(=O)O\r\n",
            "COC(=O)/C=C(C)/CCC1C(=C)CCC2C(C)(C)C(O)CCC12C\r\n",
            "COC(=O)/C=C(C)/CCC1C(=C)CCC2C(C)(CO)CCCC12C\r\n",
            "CC(=O)CCC1C(=C)CCC2C(C)(C)CCCC12C\r\n",
            "CC12CCCC(C1CCC34C2CCC(C3)C(=C)C4)(C)C(=O)O\r\n",
            "CC1CC23CCC4C(C)(CCCC4(C)C(O)=O)C2CCC1C3\r\n",
            "CC1=CCC(CC1)C(=C)CCC=C(C)C\r\n",
            "CC1(CC2C1CCC3(C(O3)CCC2=C)C)C\r\n",
            "CC(CCC1C(CCCC1(C)O)(C)C)CC(=O)O\r\n",
            "C[C@]1([O])[C@H](CCC(C)CC(OC[C@]2(C(CCC(C3CC/C(C)=C/C(OC)=O)=C)[C@]3(C)CCC2)C)=O)C(C)(C)CCC1\r\n",
            "CC(=CC(=O)O)CCC1C(=C)CCC2C1(CCCC2(C)C)C\r\n",
            "CC(=CC(=O)OC)CCC1C(=C)CCC2C1(CCCC2(C)C)C\r\n",
            "C1C(C(OC2=C1C(=CC(=C2C3C(C(OC4=CC(=CC(=C34)O)O)C5=CC(=C(C=C5)O)O)O)O)O)C6=CC(=C(C=C6)O)O)O\r\n",
            "CC1C2CN3CCC4(C3CC2C(=CO1)C(=O)OC)C5=CC=CC=C5NC4=O\r\n",
            "CC1C2CN3CCC4(C3CC2C(=CO1)C(=O)OC)C5=CC=CC=C5NC4=O\r\n",
            "CCC1=C(C2=NC1=CC3=C(C4=C(C(C(=C5C(C(C(=CC6=NC(=C2)C(=C6C)C=C)N5)C)CCC(=O)OCC)C4=N3)C(=O)OC)O)C)C\r\n",
            "CC(=O)OC/C(=C\\CCC(CCCCC(CC/C=C(CC/C=C(C)/C(=O)O)\\COC(C)=O)COC(C)=O)COC(C)=O)CC/C=C(C)/C(=O)O\r\n",
            "C1=CC(=C(C=C1C(=O)O)O)O\r\n",
            "C1=CC(=CC=C1C(=O)O)O\r\n",
            "COC1=C(C=CC(=C1)C(=O)O)O\r\n",
            "C1=CC(=CC=C1C2=C(C(=O)C3=C(C=C(C=C3O2)O)O)OC4C(C(C(C(O4)C(=O)O)O)O)O)O\r\n",
            "CC1=CCC2(CCC3(C(C2C=C1)CCC3C(C)C)C(=O)O)C\r\n",
            "CC(C)C1CCC2C1(CCC3(C2C=CC(CC3)(C)O)C)C(=O)O\r\n",
            "CC(C)C1CCC2C1(CC(C3(C24CC4C(CC3)(C)O)C)OC(=O)C)C\r\n",
            "C1C(C(OC2=C1C(=CC3=C2C(CC(=O)O3)C4=CC(=C(C=C4)O)O)O)C5=CC(=C(C=C5)O)O)O\r\n",
            "C=CCSSCC=C\r\n",
            "C=CCSSSCC=C\r\n",
            "C=CCS(=O)CC(C(=O)O)N\r\n",
            "C=CCSS(=O)CC=C\r\n",
            "C=CSC=C\r\n",
            "C=CCSCC=C\r\n",
            "CSC\r\n",
            "CCC(CCC(C)C1CCC2C1(CCC3C2CC=C4C3(CCC(C4)OC5C(C(C(C(O5)CO)O)O)O)C)C)C(C)C\r\n",
            "CC=C(CCC(C)C1CCC2C1(CCC3C2CC=C4C3(CCC(C4)O)C)C)C(C)C\r\n",
            "COC(=O)C1=COC(C2C1C=CC23C=C(C(=O)O3)CO)OC4C(C(C(C(O4)CO)O)O)O\r\n",
            "C1=CC(=C(C=C1C=CC(=O)O)O)O\r\n",
            "C1C(C(C(CC1(C(=O)O)O)OC(=O)C=CC2=CC(=C(C=C2)O)O)O)O\r\n",
            "COC1=C(C=CC(=C1)C=CC(=O)O)O\r\n",
            "CC=C(C)C(=O)OC1CC(=CCCC(=CC2C1C(=C)C(=O)O2)C)C(=O)OC\r\n",
            "CC=C(C)C(=O)OC1C2C(C=C(CCC=C(C1OC(=O)C)C(=O)OC)C)OC(=O)C2=C\r\n",
            "CC1C(O1)(C)C(=O)OC2C3C(C=C(CCC=C(C2OC(=O)C)C(=O)OC)C)OC(=O)C3=C\r\n",
            "CC=C(C)C(=O)OC1C2C(C3C(O3)(CCC=C(C1OC(=O)C)C(=O)OC)C)OC(=O)C2=C\r\n",
            "CC12CCCC(C1CCC34C2CCC(C3)C(=C)C4)(C)C(=O)O\r\n",
            "C1=C(C=C(C(=C1O)O)O)C(=O)O\r\n",
            "CC1C(C(C(C(O1)OCC2C(C(C(C(O2)OC3=C(OC4=CC(=CC(=C4C3=O)O)O)C5=CC(=C(C=C5)O)O)O)O)O)O)O)O\r\n",
            "C1=C(C=C(C(=C1O)O)O)C2=C(C(=O)C3=C(C=C(C=C3O2)O)O)O\r\n",
            "C1=CC(=CC=C1C2=C(C(=O)C3=C(C=C(C=C3O2)O)O)O)O\r\n",
            "C1=CC(=C(C=C1C2=C(C(=O)C3=C(C=C(C=C3O2)O)O)O)O)O\r\n",
            "C1=CC=C(C=C1)CC(=NOS(=O)(=O)O)SC2C(C(C(C(O2)CO)O)O)O\r\n",
            "C1=CC(=CC=C1CC(=NOS(=O)(=O)O)SC2C(C(C(C(O2)CO)O)O)O)O\r\n",
            "C=CCCCC(=NOS(=O)(=O)O)SC1C(C(C(C(O1)CO)O)O)O\r\n",
            "C1=CC=C2C(=C1)C(=CN2)CC(=NOS(=O)(=O)[O-])SC3C(C(C(C(O3)CO)O)O)O\r\n",
            "CCCCCCCCCCCCCCCC(=O)NCC1=CC=CC=C1\r\n",
            "CCCCCCCCCCCCCCCCCC(=O)NCC1=CC=CC=C1\r\n",
            "CCCCCC=CCC=CCCCCCCCC(=O)NCC1=CC=CC=C1\r\n",
            "CCC=CCC=CCC=CCCCCCCCC(=O)NCC1=CC=CC=C1\r\n",
            "CCCCCC=CCC=CCCCCCCCC(=O)O\r\n",
            "CCCCCCCCC=CCCCCCCCC(=O)O\r\n",
            "CCCCCC=CCCCCCC(=O)O\r\n",
            "CCCCCCCC=CCCCCCC(=O)O\r\n",
            "CCCCCCCC=CCCCCCCCC(=O)O\r\n",
            "CCCCCCCC=CCCCCCCCCCC(=O)O\r\n",
            "CCCCC=CCCCCCCCCCCCCCC(=O)OC\r\n",
            "CCC(CCC(C)C1CCC2C1(CCC3C2CC=C4C3(CCC(C4)O)C)C)C(C)C\r\n",
            "CC(C)C(C)CCC(C)C1CCC2C1(CCC3C2CC=C4C3(CCC(C4)O)C)C\r\n",
            "CC(C)C(C)C=CC(C)C1CCC2C1(CCC3C2=CC=C4C3(CCC(C4)O)C)C\r\n",
            "CC(C)C(C)C=CC(C)C1CCC2C1(CCC3C2CC=C4C3(CCC(C4)O)C)C\r\n",
            "C1C(=C(C=CN1O)C=O)CC2=CC=CC=C2\r\n",
            "CC1C(C(C(C(O1)O)O)O)O\r\n",
            "C1C(C(C(C(O1)O)O)O)O\r\n",
            "C(C1C(C(C(C(O1)O)O)O)O)O\r\n",
            "C(C1C(C(C(C(O1)O)O)O)O)O\r\n",
            "C1=CC=C(C=C1)CC#N\r\n",
            "C1=CC=C(C=C1)C=O\r\n",
            "CC12CCC3C(=O)OC(CC3(C1CCC=C2C(=O)OC4C(C(C(C(O4)CO)O)O)O)C)C5=COC=C5\r\n",
            "CC1CCC2(C(CCCC2C1(C)CCC3=COC=C3)C(=O)O)C\r\n",
            "CC1CC(C2(C(C13CC(OC3=O)C4=COC=C4)CCC5C2(O5)C(=O)OC)C)OC(=O)C\r\n",
            "COC1=C(C=C(C=C1)C2C(C3=C(O2)C(=CC(=C3)CCCO)OC)CO)OC\r\n",
            "CC1=CC(=O)CC(C1CCC(C)OC2C(C(C(C(O2)CO)O)O)OC3C(C(C(C(O3)C(=O)[O-])O)O)O)(C)C\r\n",
            "COC1=CC(=CC(=C1)OC)OC\r\n",
            "COC1=CC(=C(C(=C1)OC)O)OC\r\n",
            "COC1=C(C=C(C=C1)C2C(C3=C(O2)C(=CC(=C3)CCCO)O)CO)OC\r\n",
            "CC1CC(=O)CC(C1(C=CC(C)O)O)(C)C\r\n",
            "C1C(C(OC2=CC(=CC(=C21)O)O)C3=CC(=C(C=C3)O)O)O\r\n",
            "C1C(C(OC2=CC(=CC(=C21)O)O)C3=CC(=C(C=C3)O)O)O\r\n",
            "C1C(C(OC2=CC(=CC(=C21)O)O)C3=CC(=C(C(=C3)O)O)O)O\r\n",
            "C1C(C(OC2=CC(=CC(=C21)O)O)C3=CC(=C(C(=C3)O)O)O)O\r\n",
            "CC1C2CN3CCC4(C3CC2C(=CO1)C(=O)OC)C5=CC=CC=C5NC4=O\r\n",
            "CC1C2CN3CCC4(C3CC2C(=CO1)C(=O)OC)C5=CC=CC=C5NC4=O\r\n",
            "CC1C2CN3CCC4(C3CC2C(=CO1)C(=O)OC)C5=CC=CC=C5NC4=O\r\n",
            "CC1C2CN3CCC4(C3CC2C(=CO1)C(=O)OC)C5=CC=CC=C5NC4=O\r\n",
            "CC1C2CN3CCC4(C3CC2C(=CO1)C(=O)OC)C5=CC=CC=C5NC4=O\r\n",
            "CCC1CN2CCC3(C2CC1C(=COC)C(=O)OC)C4=CC=CC=C4NC3=O\r\n",
            "CCC1CN2CCC3(C2CC1C(=COC)C(=O)OC)C4=CC=CC=C4NC3=O\r\n",
            "COC=C(C1CC2C3(CCN2CC1C=C)C4=CC=CC=C4NC3=O)C(=O)OC\r\n",
            "COC=C(C1CC2C3(CCN2CC1C=C)C4=CC=CC=C4NC3=O)C(=O)OC\r\n",
            "CC1C2CN3CCC4=C(C3CC2C(=CO1)C(=O)OC)NC5=CC=CC=C45\r\n",
            "CC1C2CN3CCC4=C(C3CC2C(=CO1)C(=O)OC)NC5=CC=CC=C45\r\n",
            "CC1C2CN3CCC4=C(C3CC2C(=CO1)C(=O)OC)NC5=CC=CC=C45\r\n",
            "CCC1CN2CCC3=C(C2CC1C(=COC)C(=O)OC)NC4=CC=CC=C34\r\n",
            "CCC1CN2CCC3=C(C2CC1C(=COC)C(=O)OC)NC4=CC=CC=C34\r\n",
            "COC=C(C1CC2C3=C(CCN2CC1C=C)C4=CC=CC=C4N3)C(=O)OC\r\n",
            "COC=C(C1CC2C3=C(CCN2CC1C=C)C4=CC=CC=C4N3)C(=O)OC\r\n",
            "CC1C(C(C(C(O1)O)O)O)O\r\n",
            "CC1C(C(C(C(O1)O)O)O)O\r\n",
            "CC1C(C(C(C(O1)O)O)O)O\r\n",
            "C(C1C(C(C(C(O1)O)O)O)O)O\r\n",
            "C(C1C(C(C(C(O1)O)O)O)O)O\r\n",
            "CC(CCC=C(C)C)C1CCC2(C1(CCC3=C2CCC4C3(CCC(C4(C)C)O)C)C)C\r\n",
            "CCC(C=CC(C)C1CCC2C1(CCC3C2CC=C4C3(CCC(C4)O)C)C)C(C)C\r\n",
            "CC=C(CCC(C)C1CCC2C1(CCC3C2=CCC4C3(CCC(C4)O)C)C)C(C)C\r\n",
            "CC1CCC(C(C1)O)C(C)C\r\n",
            "CC1=CCC(CC1)C(=C)C\r\n",
            "CC1=C(C=C(C=C1)C(C)C)O\r\n",
            "CC(=CCCC(=CCCC(C)(C=C)O)C)C\r\n",
            "CC1=CCC(CC1=O)C(=C)C\r\n",
            "CC1=CCCC(=C)C2CC(C2CC1)(C)C\r\n",
            "CC(=CCCC(C)(C=C)O)C\r\n",
            "CC1=CCCC(=CCC(CC1)C(=C)C)C\r\n",
            "CC1CCC(C(=O)C1)C(C)C\r\n",
            "CC1=CC(=C(C=C1)C(C)C)O\r\n",
            "CC1CCC(=C(C)C)C(=O)C1\r\n",
            "CC1=CCCC(=C)C=CC(CC1)C(C)C\r\n",
            "CC1CCC(C(=O)C1)C(C)C\r\n",
            "C1=CC(=C(C=C1C2=C(C(=O)C3=C(C=C(C=C3O2)O)O)OC4C(C(C(O4)CO)O)O)O)O\r\n",
            "COC(=O)C1=CC(=C(C=C1)O)O\r\n",
            "CC1C(=O)CCC2C1(CCC3C2(CCC4(C3(CCC5(C4CC(CC5)(C)C)C)C)C)C)C\r\n",
            "CCCCCCCCCCCCCCCCCCCCCCO\r\n",
            "OC1=CC=C(CCNC(/C=C/C2=CC(OC)=C(O)C=C2)=O)C=C1\r\n",
            "CCC(CCC(C)C1CCC2C1(CCC3C2CCC4=CC(=O)CCC34C)C)C(C)C\r\n",
            "C(C(C(=O)O)O)(C(=O)O)O\r\n",
            "CN1CCCC1C2=CN=CC=C2\r\n",
            "CCC(C1CC=CC2N1CCCNCCCCNC(=O)C2)O\r\n",
            "CCCCO\r\n",
            "CCOC(=O)C\r\n",
            "C1=CC(=CC=C1C2=CC(=O)C3=C(O2)C=C(C=C3OC4C(C(C(C(O4)CO)O)O)O)O)O\r\n",
            "C1=CC(=C(C=C1C2=CC(=O)C3=C(O2)C=C(C=C3OC4C(C(C(C(O4)CO)O)O)O)O)O)O\r\n",
            "C1=CN(C(=O)NC1=O)C2C(C(C(O2)CO)O)O\r\n",
            "C1=NC2=C(C(=O)N1)N=CN2C3C(C(C(O3)CO)O)O\r\n",
            "COC1=C(C=CC(=C1)C=CCO)OC2C(C(C(C(O2)CO)O)O)O\r\n"
          ]
        }
      ]
    }
  ]
}