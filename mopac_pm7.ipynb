{
  "nbformat": 4,
  "nbformat_minor": 0,
  "metadata": {
    "colab": {
      "provenance": [],
      "authorship_tag": "ABX9TyMRX7gD8J0PE3EJZtcX5xfk",
      "include_colab_link": true
    },
    "kernelspec": {
      "name": "python3",
      "display_name": "Python 3"
    },
    "language_info": {
      "name": "python"
    }
  },
  "cells": [
    {
      "cell_type": "markdown",
      "metadata": {
        "id": "view-in-github",
        "colab_type": "text"
      },
      "source": [
        "<a href=\"https://colab.research.google.com/github/inefable12/herramientas_basicas/blob/main/mopac_pm7.ipynb\" target=\"_parent\"><img src=\"https://colab.research.google.com/assets/colab-badge.svg\" alt=\"Open In Colab\"/></a>"
      ]
    },
    {
      "cell_type": "markdown",
      "source": [
        "# ¿BH_Egap > NBH_Egap?\n",
        "\n",
        "Jesus Alvarado-Huayhuaz"
      ],
      "metadata": {
        "id": "vhrG7tQ6ZJA-"
      }
    },
    {
      "cell_type": "markdown",
      "source": [
        "MOPAC2016, PM7, charge=-1, SINGLET"
      ],
      "metadata": {
        "id": "Lw44WPIsZoKN"
      }
    },
    {
      "cell_type": "code",
      "execution_count": null,
      "metadata": {
        "id": "mMX0u9FDVG-H"
      },
      "outputs": [],
      "source": [
        "!mkdir /opt/MOPAC\n",
        "%cd /opt/MOPAC\n",
        "!wget http://openmopac.net/MOPAC2016_for_Linux_64_bit.zip\n",
        "!unzip /opt/MOPAC/MOPAC2016_for_Linux_64_bit.zip\n",
        "!cp -p /opt/MOPAC/libiomp5.so /usr/lib/\n",
        "!chmod 755 MOPAC2016.exe\n",
        "!chmod 777 ."
      ]
    },
    {
      "cell_type": "code",
      "source": [
        "!mkdir mis_moleculas\n",
        "%cd mis_moleculas/"
      ],
      "metadata": {
        "colab": {
          "base_uri": "https://localhost:8080/"
        },
        "id": "MMfSXERKVS39",
        "outputId": "4a1e4d13-ffd7-4ba6-d8f7-ff0b14210194"
      },
      "execution_count": 2,
      "outputs": [
        {
          "output_type": "stream",
          "name": "stdout",
          "text": [
            "/opt/MOPAC/mis_moleculas\n"
          ]
        }
      ]
    },
    {
      "cell_type": "code",
      "source": [
        "!cat BH_mopac_pm7.mop"
      ],
      "metadata": {
        "colab": {
          "base_uri": "https://localhost:8080/"
        },
        "id": "X5zocSZ3Y21c",
        "outputId": "f3a713e7-267e-4151-bacd-5569112b8e85"
      },
      "execution_count": 12,
      "outputs": [
        {
          "output_type": "stream",
          "name": "stdout",
          "text": [
            " AUX LARGE CHARGE=-1 SINGLET  PM7\r\n",
            "bh_mopac_pm7\r\n",
            "\r\n",
            "   C        2.26422             1        -0.01220             1         0.27187             1 \r\n",
            "   C        1.79495             1        -1.32436             1         0.22948             1 \r\n",
            "   C        0.45196             1        -1.57354             1        -0.05203             1 \r\n",
            "   C       -0.42777             1        -0.51288             1        -0.29237             1 \r\n",
            "   C        1.39181             1         1.05331             1         0.03291             1 \r\n",
            "   C        0.02842             1         0.82441             1        -0.25398             1 \r\n",
            "   H        3.30661             1         0.18117             1         0.49038             1 \r\n",
            "   H        2.47190             1        -2.14835             1         0.41478             1 \r\n",
            "   H        0.08972             1        -2.59318             1        -0.08444             1 \r\n",
            "   H        1.78969             1         2.05956             1         0.07371             1 \r\n",
            "   C       -0.87305             1         1.99677             1        -0.50417             1 \r\n",
            "   H       -1.45360             1        -0.76675             1        -0.50450             1 \r\n",
            "   O       -0.40064             1         3.12433             1        -0.45261             1 \r\n",
            "   N       -2.19611             1         1.85862             1        -0.78647             1 \r\n",
            "   O       -2.95589             1         2.94198             1        -1.00169             1 \r\n",
            "   H       -2.64880             1         0.93945             1        -0.84326             1 \r\n",
            "\r\n",
            "\r\n"
          ]
        }
      ]
    },
    {
      "cell_type": "code",
      "source": [
        "!cat NBH_mopac_pm7.mop"
      ],
      "metadata": {
        "colab": {
          "base_uri": "https://localhost:8080/"
        },
        "id": "HYiRIr9iY7Hg",
        "outputId": "1ecebe23-a79e-4338-c7fb-faba7563206f"
      },
      "execution_count": 13,
      "outputs": [
        {
          "output_type": "stream",
          "name": "stdout",
          "text": [
            " AUX LARGE CHARGE=-1 SINGLET  PM7\r\n",
            "nbh_mopac_pm7\r\n",
            "\r\n",
            "   O       -1.17000             1        -3.16128             1        -0.33649             1 \r\n",
            "   O        0.79918             1        -3.92554             1         0.13061             1 \r\n",
            "   O       -2.94638             1         2.97451             1        -1.00514             1 \r\n",
            "   O       -0.39274             1         3.14315             1        -0.45231             1 \r\n",
            "   N       -2.19308             1         1.88654             1        -0.79030             1 \r\n",
            "   N       -0.02449             1        -2.92380             1        -0.09574             1 \r\n",
            "   C       -0.86952             1         2.01745             1        -0.50575             1 \r\n",
            "   C        0.02876             1         0.84110             1        -0.25506             1 \r\n",
            "   C        1.38921             1         1.06943             1         0.03329             1 \r\n",
            "   C       -0.42923             1        -0.49556             1        -0.29491             1 \r\n",
            "   C        0.44628             1        -1.57547             1        -0.05361             1 \r\n",
            "   C        1.79511             1        -1.30607             1         0.23034             1 \r\n",
            "   C        2.25973             1         0.00664             1         0.27273             1 \r\n",
            "   H       -2.65202             1         0.97088             1        -0.84935             1 \r\n",
            "   H       -1.45961             1        -0.72219             1        -0.51087             1 \r\n",
            "   H        1.78771             1         2.07542             1         0.07509             1 \r\n",
            "   H        2.49366             1        -2.11074             1         0.42028             1 \r\n",
            "   H        3.30149             1         0.20238             1         0.49259             1 \r\n",
            "\r\n",
            "\r\n"
          ]
        }
      ]
    },
    {
      "cell_type": "code",
      "source": [
        "!../MOPAC2016.exe BH_mopac_pm7.mop"
      ],
      "metadata": {
        "colab": {
          "base_uri": "https://localhost:8080/"
        },
        "id": "TgMOZinrW2SV",
        "outputId": "26238ed6-72fe-4720-9208-0ce5d38c8c6b"
      },
      "execution_count": 4,
      "outputs": [
        {
          "output_type": "stream",
          "name": "stdout",
          "text": [
            "\n",
            "\n",
            "          MOPAC Job: \"BH_mopac_pm7.mop\" ended normally on Nov 10, 2023, at 08:34.\n",
            "\n"
          ]
        }
      ]
    },
    {
      "cell_type": "code",
      "source": [
        "!../MOPAC2016.exe NBH_mopac_pm7.mop"
      ],
      "metadata": {
        "colab": {
          "base_uri": "https://localhost:8080/"
        },
        "id": "2oaCZb0aXh_P",
        "outputId": "9f02c455-76bc-4137-a88e-1e5d96e223d8"
      },
      "execution_count": 5,
      "outputs": [
        {
          "output_type": "stream",
          "name": "stdout",
          "text": [
            "\n",
            "\n",
            "          MOPAC Job: \"NBH_mopac_pm7.mop\" ended normally on Nov 10, 2023, at 08:34.\n",
            "\n"
          ]
        }
      ]
    },
    {
      "cell_type": "code",
      "source": [
        "!grep HOMO BH_mopac_pm7.out"
      ],
      "metadata": {
        "colab": {
          "base_uri": "https://localhost:8080/"
        },
        "id": "grpkqZ3JXrED",
        "outputId": "09320d98-404b-40fe-ca05-147977daa50d"
      },
      "execution_count": 6,
      "outputs": [
        {
          "output_type": "stream",
          "name": "stdout",
          "text": [
            "          HOMO LUMO ENERGIES (EV) =         -2.463  3.189\n"
          ]
        }
      ]
    },
    {
      "cell_type": "code",
      "source": [
        "!grep HOMO NBH_mopac_pm7.out"
      ],
      "metadata": {
        "colab": {
          "base_uri": "https://localhost:8080/"
        },
        "id": "c1kMD7wfYcUB",
        "outputId": "93f97602-f864-4b25-8735-949a05475746"
      },
      "execution_count": 7,
      "outputs": [
        {
          "output_type": "stream",
          "name": "stdout",
          "text": [
            "          HOMO LUMO ENERGIES (EV) =         -2.971  1.537\n"
          ]
        }
      ]
    },
    {
      "cell_type": "code",
      "source": [
        "BH_Egap = 3.189-(-2.463)\n",
        "BH_Egap"
      ],
      "metadata": {
        "colab": {
          "base_uri": "https://localhost:8080/"
        },
        "id": "I8VV59f3Ye1d",
        "outputId": "0d7dbc7a-6acf-407f-be93-2bb34e536c25"
      },
      "execution_count": 11,
      "outputs": [
        {
          "output_type": "execute_result",
          "data": {
            "text/plain": [
              "5.652"
            ]
          },
          "metadata": {},
          "execution_count": 11
        }
      ]
    },
    {
      "cell_type": "code",
      "source": [
        "NBH_Egap =  1.537-(-2.971)\n",
        "NBH_Egap"
      ],
      "metadata": {
        "colab": {
          "base_uri": "https://localhost:8080/"
        },
        "id": "rvlUYLbMYpGr",
        "outputId": "12c44dd1-e841-4092-ccb5-9bbbe76dcafd"
      },
      "execution_count": 10,
      "outputs": [
        {
          "output_type": "execute_result",
          "data": {
            "text/plain": [
              "4.508"
            ]
          },
          "metadata": {},
          "execution_count": 10
        }
      ]
    },
    {
      "cell_type": "code",
      "source": [
        "BH_Egap > NBH_Egap"
      ],
      "metadata": {
        "colab": {
          "base_uri": "https://localhost:8080/"
        },
        "id": "Kn_gIZS-Ywth",
        "outputId": "a14bfeda-fe7a-4d43-86c7-54df74eb33af"
      },
      "execution_count": 14,
      "outputs": [
        {
          "output_type": "execute_result",
          "data": {
            "text/plain": [
              "True"
            ]
          },
          "metadata": {},
          "execution_count": 14
        }
      ]
    }
  ]
}