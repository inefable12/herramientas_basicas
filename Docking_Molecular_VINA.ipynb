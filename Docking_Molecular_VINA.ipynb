{
  "nbformat": 4,
  "nbformat_minor": 0,
  "metadata": {
    "colab": {
      "name": "Docking_Molecular_VINA.ipynb",
      "provenance": [],
      "collapsed_sections": []
    },
    "kernelspec": {
      "name": "python3",
      "display_name": "Python 3"
    },
    "language_info": {
      "name": "python"
    }
  },
  "cells": [
    {
      "cell_type": "markdown",
      "source": [
        "# __DOCKING MOLECULAR__\n",
        "Autor: __Jesus Alvarado Huayhuaz__\n",
        "\n",
        "\n",
        "Contacto: __inefable12@gmail.com__\n",
        "\n",
        "\n",
        "-----------------------------------------------\n",
        "Instalaremos Autodock $VINA$ y dockearemos en el target "
      ],
      "metadata": {
        "id": "wjGU1OyO2WwC"
      }
    },
    {
      "cell_type": "markdown",
      "source": [
        "1. Ligando => formato pdbqt\n",
        "2. Proteína => formato pdbqt\n",
        "3. Generar el archivo de configuracion => texto"
      ],
      "metadata": {
        "id": "otxcW5Qm9wg_"
      }
    },
    {
      "cell_type": "markdown",
      "source": [
        "## __INSTALACION VINA__"
      ],
      "metadata": {
        "id": "bbBwkaPK8O2j"
      }
    },
    {
      "cell_type": "code",
      "source": [
        "!wget https://vina.scripps.edu/wp-content/uploads/sites/55/2020/12/autodock_vina_1_1_2_linux_x86.tgz\n",
        "!tar xzvf autodock_vina_1_1_2_linux_x86.tgz\n",
        "%cd autodock_vina_1_1_2_linux_x86/bin"
      ],
      "metadata": {
        "id": "I-rD-Enn8Ypb"
      },
      "execution_count": null,
      "outputs": []
    },
    {
      "cell_type": "code",
      "source": [
        "!pwd\n",
        "!ls"
      ],
      "metadata": {
        "id": "8CjxQVVU8wmo"
      },
      "execution_count": null,
      "outputs": []
    },
    {
      "cell_type": "markdown",
      "source": [
        "## __1. LIGANDOS__"
      ],
      "metadata": {
        "id": "48jU8vxbgTTz"
      }
    },
    {
      "cell_type": "markdown",
      "source": [
        "Por lo general tenemos las moléculas en formato XYZ, \n",
        "smiles, sdf, etc. Entonces requerimos un convertidor\n",
        "a PDBQT, podemos usar Open Babel"
      ],
      "metadata": {
        "id": "xbyKXWHng8s8"
      }
    },
    {
      "cell_type": "code",
      "source": [
        "!apt-get -qq install -y openbabel"
      ],
      "metadata": {
        "id": "d6qgtn1Dyoi0"
      },
      "execution_count": null,
      "outputs": []
    },
    {
      "cell_type": "code",
      "source": [
        "import os\n",
        "file = open(\"molecula.smi\", \"w\")\n",
        "#file.write(\"O=C(N([C@@H](C(=O)NC1CCCCC1)c1cccnc1)c1ccc(C(C)(C)C)cc1)C1=NC=NC1\" + os.linesep)\n",
        "file.write(\"C1CCCC(O)C1(=O)N\" + os.linesep)\n",
        "file.write(\"C1CCCC(O)C1(C)N\" + os.linesep)\n",
        "file.write(\"C1CCCC(O)C1(CC)N\" + os.linesep)\n",
        "file.write(\"C1CCCC(O)C1(N)N\")\n",
        "file.close()"
      ],
      "metadata": {
        "id": "gqdjXhWNhVv5"
      },
      "execution_count": null,
      "outputs": []
    },
    {
      "cell_type": "code",
      "source": [
        "!obabel -i smi molecula.smi -o sdf --gen3D > _.sdf\n",
        "!obabel -i sdf _.sdf -o mol2 -O _.mol2 -h -m\n",
        "!obabel *.mol2 -O opt.xyz --minimize --sd --steps 20000 --ff MMFF94 -p 7.4 --log -m\n",
        "!obabel -i xyz *.xyz -o pdbqt -O lig_.pdbqt -m"
      ],
      "metadata": {
        "id": "_v3S1eJZqH3P"
      },
      "execution_count": null,
      "outputs": []
    },
    {
      "cell_type": "code",
      "source": [
        "!rm *mol2 *smi *xyz *sdf"
      ],
      "metadata": {
        "id": "qhMyYClS7V85"
      },
      "execution_count": null,
      "outputs": []
    },
    {
      "cell_type": "code",
      "source": [
        "# O puedes ingresar tu molécula ya en 3D y en cualquier formato \n",
        "from google.colab import files\n",
        "files.upload() # open input type = file"
      ],
      "metadata": {
        "id": "cubNzgn6g-9c"
      },
      "execution_count": null,
      "outputs": []
    },
    {
      "cell_type": "code",
      "source": [
        "# Convirtiendo a PDBQT\n",
        "!obabel -i pdb x77.pdb -o pdbqt -O lig_x77.pdbqt -m"
      ],
      "metadata": {
        "id": "In_xzx4Qh1CC"
      },
      "execution_count": null,
      "outputs": []
    },
    {
      "cell_type": "markdown",
      "source": [
        "## __PROTEINA__"
      ],
      "metadata": {
        "id": "lJCdBhd_5E4w"
      }
    },
    {
      "cell_type": "code",
      "source": [
        "!wget http://www.rcsb.org/pdb/files/6W63.pdb.gz\n",
        "!gzip -d 6W63.pdb.gz"
      ],
      "metadata": {
        "id": "6-fjBCRb6eA7"
      },
      "execution_count": null,
      "outputs": []
    },
    {
      "cell_type": "markdown",
      "source": [
        "Por practicidad insertar la proteína __ya \"preparada\" en Autodock Tools en formato PDBQT__"
      ],
      "metadata": {
        "id": "gj6532s45E43"
      }
    },
    {
      "cell_type": "code",
      "source": [
        "#Instalación para observar moléculas en 3D \n",
        "!pip install py3Dmol"
      ],
      "metadata": {
        "id": "ZI5nh1PR7s6d"
      },
      "execution_count": null,
      "outputs": []
    },
    {
      "cell_type": "code",
      "source": [
        "# Visualizamos la proteína, sitio activo, aminoácidos de interés\n",
        "import py3Dmol\n",
        "\n",
        "def definegrid(object,bxi,byi,bzi,bxf,byf,bzf):\n",
        "  object.addBox({'center':{'x':bxi,'y':byi,'z':bzi},'dimensions': {'w':bxf,'h':byf,'d':bzf},'color':'blue','opacity': 0.6})\n",
        "\n",
        "def viewprot(object,prot_PDBfile,resids):\n",
        "  mol1 = open(prot_PDBfile, 'r').read()\n",
        "  object.addModel(mol1,'pdb')\n",
        "  object.setStyle({'cartoon': {'color':'spectrum'}})\n",
        "  object.addStyle({'resi':resids},{'stick':{'colorscheme':'greenCarbon'}})\n",
        "\n",
        "def viewprotgrid(prot_PDBfile,resids,bxi,byi,bzi,bxf=10,byf=10,bzf=10):\n",
        "  mol_view = py3Dmol.view(1000,600)\n",
        "  definegrid(mol_view,bxi,byi,bzi,bxf,byf,bzf)\n",
        "  viewprot(mol_view,prot_PDBfile,resids)\n",
        "  mol_view.setBackgroundColor('0xffffff')\n",
        "  mol_view.zoomTo()\n",
        "  mol_view.show() "
      ],
      "metadata": {
        "id": "pwtQyawhTZyx"
      },
      "execution_count": null,
      "outputs": []
    },
    {
      "cell_type": "code",
      "source": [
        "from ipywidgets import interact,fixed,IntSlider\n",
        "import ipywidgets\n",
        "interact(viewprotgrid,\n",
        "         prot_PDBfile = ['6W63.pdb'],\n",
        "#Agrega los residuos que quieres visualizar\n",
        "         resids = [(41,142,145)],\n",
        "         bxi=ipywidgets.IntSlider(min=-100,max=100, step=1),\n",
        "         byi=ipywidgets.IntSlider(min=-100,max=100, step=1),\n",
        "         bzi=ipywidgets.IntSlider(min=-100,max=100, step=1),\n",
        "         bxf=ipywidgets.IntSlider(min=0,max=30, step=1),\n",
        "         byf=ipywidgets.IntSlider(min=0,max=30, step=1),\n",
        "         bzf=ipywidgets.IntSlider(min=0,max=30, step=1))"
      ],
      "metadata": {
        "id": "jXIHlLH-Apna"
      },
      "execution_count": null,
      "outputs": []
    },
    {
      "cell_type": "markdown",
      "source": [
        "## __CONFIGURACION__"
      ],
      "metadata": {
        "id": "9HDovf3x6NlT"
      }
    },
    {
      "cell_type": "code",
      "source": [
        "# Para la proteína 6W63: lado 25, centro (-19.313,18.321,-27.425)\n",
        "with open(\"configuracion\",\"w\") as f:\n",
        "  f.write(\"#Archivo de configuracion \\n\")\n",
        "  f.write(\"\\n\")\n",
        "  f.write(\"#Opciones de entrada \\n\")\n",
        "  f.write(\"receptor = 6W63_sin_ligando.pdbqt \\n\")\n",
        "  #f.write(\"ligand = lig_opt_1.pdbqt \\n\")\n",
        "  f.write(\"#flex = [residuos flexibles en el receptor en formato pdbqt] \\n\")\n",
        "  f.write(\"#Configuracion del espacio de búsqueda \\n\")\n",
        "#Tamaño de la caja \n",
        "  f.write(\"#Tamaño de la caja: bxf, byf, bzf) \\n\")\n",
        "  f.write(\"size_x = 25 \\n\")\n",
        "  f.write(\"size_y = 25 \\n\")\n",
        "  f.write(\"size_z = 25 \\n\")\n",
        "# Coordenadas del centro de la caja (ver)\n",
        "  f.write(\"#Centro de la caja: bxi, byi, bzi \\n\")\n",
        "  f.write(\"center_x = -19.313 \\n\")\n",
        "  f.write(\"center_y = 18.321 \\n\")\n",
        "  f.write(\"center_z = -27.425 \\n\")\n",
        "  f.write(\"#Opciones de Salida \\n\")\n",
        "  #f.write(\"out = conformaciones.pdbqt \\n\")\n",
        "  f.write(\"#log = \\n\")\n",
        "  f.write(\"\\n\")\n",
        "  f.write(\"#Otras opciones \\n\")\n",
        "  f.write(\"#cpu = 8 \\n\")\n",
        "  f.write(\"exhaustiveness = 8 \\n\")\n",
        "  f.write(\"num_modes = 1 \\n\")\n",
        "  f.write(\"#energy_range = \\n\")\n",
        "  f.write(\"#seed = \")"
      ],
      "metadata": {
        "id": "RcsU7ulpOxOP"
      },
      "execution_count": null,
      "outputs": []
    },
    {
      "cell_type": "code",
      "source": [
        "!grep -v '#' configuracion"
      ],
      "metadata": {
        "id": "wWniOxPPFhIt"
      },
      "execution_count": null,
      "outputs": []
    },
    {
      "cell_type": "markdown",
      "source": [
        "## __EJECUTAMOS VINA__"
      ],
      "metadata": {
        "id": "vLnyMvMHGca2"
      }
    },
    {
      "cell_type": "code",
      "source": [
        "# Si queremos acoplar solo 1 molécula\n",
        "!./vina --config configuracion "
      ],
      "metadata": {
        "id": "h2BaRMArPHTo"
      },
      "execution_count": null,
      "outputs": []
    },
    {
      "cell_type": "markdown",
      "source": [
        "Correr docking en __grupo__"
      ],
      "metadata": {
        "id": "rb79faYoL6BI"
      }
    },
    {
      "cell_type": "code",
      "source": [
        "# Creamos un txt de los ligandos en formato pdbqt, teniendo cuidado con la proteina\n",
        "!ls lig_* > inputs.txt\n",
        "# Convertimos este txt en una lista\n",
        "f = open(\"inputs.txt\",\"r\")\n",
        "input_lig_pdbqt = f.read().splitlines()\n",
        "print(input_lig_pdbqt)"
      ],
      "metadata": {
        "id": "30tU1YlaL3qT"
      },
      "execution_count": null,
      "outputs": []
    },
    {
      "cell_type": "code",
      "source": [
        "# Información de comandos de ejecución de VINA\n",
        "#!./vina --help"
      ],
      "metadata": {
        "id": "3JLDCEOJi5KX"
      },
      "execution_count": null,
      "outputs": []
    },
    {
      "cell_type": "code",
      "source": [
        "# Ejecutamos VINA\n",
        "for i in input_lig_pdbqt:\n",
        "  print(i)\n",
        "  !./vina --ligand {i} --config configuracion --log {i}.log"
      ],
      "metadata": {
        "id": "h9pDpPHBX05w"
      },
      "execution_count": null,
      "outputs": []
    },
    {
      "cell_type": "code",
      "source": [
        "import glob\n",
        "with open('resumen_VS.txt', 'w') as sm:\n",
        "  for fn in sorted(glob.glob(\"./*.log\")):\n",
        "    with open(fn) as f:\n",
        "      flag = False\n",
        "      for line in f:\n",
        "        if not flag and '----' in line:\n",
        "          flag = True\n",
        "        elif flag:\n",
        "          flag = False\n",
        "          cells = line.split()\n",
        "          sm.write(fn + \"    \" + cells[1] + \"\\n\")\n",
        "          break"
      ],
      "metadata": {
        "id": "spo5hTFPQXj0"
      },
      "execution_count": null,
      "outputs": []
    },
    {
      "cell_type": "code",
      "source": [
        "!cat resumen_VS.txt"
      ],
      "metadata": {
        "id": "nhXgnFHYp-D_"
      },
      "execution_count": null,
      "outputs": []
    }
  ]
}